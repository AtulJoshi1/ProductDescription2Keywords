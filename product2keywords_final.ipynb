{
  "nbformat": 4,
  "nbformat_minor": 0,
  "metadata": {
    "colab": {
      "name": "product2keywords_final.ipynb",
      "provenance": [],
      "collapsed_sections": [
        "sEPfhSSeXT9G",
        "Thj03Xx0Dk9n"
      ],
      "toc_visible": true
    },
    "kernelspec": {
      "name": "python3",
      "display_name": "Python 3"
    }
  },
  "cells": [
    {
      "cell_type": "code",
      "metadata": {
        "id": "m4tdGZwsMupe",
        "colab_type": "code",
        "colab": {}
      },
      "source": [
        "import numpy as np\n",
        "import pandas as pd\n",
        "from sklearn.feature_extraction.text import TfidfVectorizer\n",
        "import re\n",
        "import nltk\n",
        "from nltk.stem import WordNetLemmatizer \n",
        "from nltk.tokenize import word_tokenize "
      ],
      "execution_count": 0,
      "outputs": []
    },
    {
      "cell_type": "code",
      "metadata": {
        "id": "nYWzodV9Zefb",
        "colab_type": "code",
        "colab": {}
      },
      "source": [
        "import spacy\n",
        "nlp = spacy.load(\"en_core_web_sm\")"
      ],
      "execution_count": 0,
      "outputs": []
    },
    {
      "cell_type": "code",
      "metadata": {
        "id": "dgQJDAOX51DK",
        "colab_type": "code",
        "outputId": "d77b4f4f-33d5-4cfa-a89f-d32110ae6db9",
        "colab": {
          "base_uri": "https://localhost:8080/",
          "height": 136
        }
      },
      "source": [
        "nltk.download('stopwords')\n",
        "nltk.download('punkt')\n",
        "nltk.download('wordnet')"
      ],
      "execution_count": 3,
      "outputs": [
        {
          "output_type": "stream",
          "text": [
            "[nltk_data] Downloading package stopwords to /root/nltk_data...\n",
            "[nltk_data]   Unzipping corpora/stopwords.zip.\n",
            "[nltk_data] Downloading package punkt to /root/nltk_data...\n",
            "[nltk_data]   Unzipping tokenizers/punkt.zip.\n",
            "[nltk_data] Downloading package wordnet to /root/nltk_data...\n",
            "[nltk_data]   Unzipping corpora/wordnet.zip.\n"
          ],
          "name": "stdout"
        },
        {
          "output_type": "execute_result",
          "data": {
            "text/plain": [
              "True"
            ]
          },
          "metadata": {
            "tags": []
          },
          "execution_count": 3
        }
      ]
    },
    {
      "cell_type": "markdown",
      "metadata": {
        "id": "lmcoMutMF3Zr",
        "colab_type": "text"
      },
      "source": [
        "## Load Data"
      ]
    },
    {
      "cell_type": "code",
      "metadata": {
        "id": "X2LZgt48F022",
        "colab_type": "code",
        "outputId": "9ddc88ea-f4a9-4cd4-9b37-9e39d49dc7ac",
        "colab": {
          "base_uri": "https://localhost:8080/",
          "height": 122
        }
      },
      "source": [
        "from google.colab import drive\n",
        "drive.mount('/content/drive')"
      ],
      "execution_count": 4,
      "outputs": [
        {
          "output_type": "stream",
          "text": [
            "Go to this URL in a browser: https://accounts.google.com/o/oauth2/auth?client_id=947318989803-6bn6qk8qdgf4n4g3pfee6491hc0brc4i.apps.googleusercontent.com&redirect_uri=urn%3aietf%3awg%3aoauth%3a2.0%3aoob&response_type=code&scope=email%20https%3a%2f%2fwww.googleapis.com%2fauth%2fdocs.test%20https%3a%2f%2fwww.googleapis.com%2fauth%2fdrive%20https%3a%2f%2fwww.googleapis.com%2fauth%2fdrive.photos.readonly%20https%3a%2f%2fwww.googleapis.com%2fauth%2fpeopleapi.readonly\n",
            "\n",
            "Enter your authorization code:\n",
            "··········\n",
            "Mounted at /content/drive\n"
          ],
          "name": "stdout"
        }
      ]
    },
    {
      "cell_type": "code",
      "metadata": {
        "id": "MHTVijA6MrpT",
        "colab_type": "code",
        "colab": {}
      },
      "source": [
        "data = pd.read_csv('/content/drive/My Drive/Algoscale/NLP/Data/amazon_phone_dataset.csv')"
      ],
      "execution_count": 0,
      "outputs": []
    },
    {
      "cell_type": "code",
      "metadata": {
        "id": "Un5TJoqDNAB7",
        "colab_type": "code",
        "outputId": "faa37f81-b47f-45cf-d87b-24b5b7342b51",
        "colab": {
          "base_uri": "https://localhost:8080/",
          "height": 442
        }
      },
      "source": [
        "data.head()"
      ],
      "execution_count": 6,
      "outputs": [
        {
          "output_type": "execute_result",
          "data": {
            "text/html": [
              "<div>\n",
              "<style scoped>\n",
              "    .dataframe tbody tr th:only-of-type {\n",
              "        vertical-align: middle;\n",
              "    }\n",
              "\n",
              "    .dataframe tbody tr th {\n",
              "        vertical-align: top;\n",
              "    }\n",
              "\n",
              "    .dataframe thead th {\n",
              "        text-align: right;\n",
              "    }\n",
              "</style>\n",
              "<table border=\"1\" class=\"dataframe\">\n",
              "  <thead>\n",
              "    <tr style=\"text-align: right;\">\n",
              "      <th></th>\n",
              "      <th>Product_name</th>\n",
              "      <th>by_info</th>\n",
              "      <th>Product_url</th>\n",
              "      <th>Product_img</th>\n",
              "      <th>Product_price</th>\n",
              "      <th>rating</th>\n",
              "      <th>total_review</th>\n",
              "      <th>ans_ask</th>\n",
              "      <th>prod_des</th>\n",
              "      <th>feature</th>\n",
              "      <th>cust_review</th>\n",
              "    </tr>\n",
              "  </thead>\n",
              "  <tbody>\n",
              "    <tr>\n",
              "      <th>0</th>\n",
              "      <td>Samsung Galaxy M10 (Ocean Blue, 3+32GB)</td>\n",
              "      <td>Samsung</td>\n",
              "      <td>https://www.amazon.in/Samsung-Galaxy-Ocean-Blu...</td>\n",
              "      <td>https://images-na.ssl-images-amazon.com/images...</td>\n",
              "      <td>₹ 7,990.00</td>\n",
              "      <td>4.0 out of 5 stars</td>\n",
              "      <td>7,353 customer reviews</td>\n",
              "      <td>1000+ answered questions</td>\n",
              "      <td>The Samsung Galaxy M10 is especially created f...</td>\n",
              "      <td>13MP+5MP ultra-wide angle dual camera | 5MP f2...</td>\n",
              "      <td>Well, I was a bit sceptical before buying this...</td>\n",
              "    </tr>\n",
              "    <tr>\n",
              "      <th>1</th>\n",
              "      <td>Redmi 6 Pro (Black, 4GB RAM, 64GB Storage)</td>\n",
              "      <td>Mi</td>\n",
              "      <td>https://www.amazon.in/Redmi-Pro-Black-64GB-Sto...</td>\n",
              "      <td>https://images-na.ssl-images-amazon.com/images...</td>\n",
              "      <td>NaN</td>\n",
              "      <td>4.1 out of 5 stars</td>\n",
              "      <td>32,250 customer reviews</td>\n",
              "      <td>1000+ answered questions</td>\n",
              "      <td>Qualcomm Snapdragon 625, 2.0 GHz processor wit...</td>\n",
              "      <td>12MP+5MP dual rear camera | 5MP front facing c...</td>\n",
              "      <td>Display quality is top notch, overall the qual...</td>\n",
              "    </tr>\n",
              "    <tr>\n",
              "      <th>2</th>\n",
              "      <td>Coolpad Cool 3 Plus (Ocean Blue, 2GB RAM, 16GB...</td>\n",
              "      <td>Coolpad</td>\n",
              "      <td>https://www.amazon.in/Coolpad-Cool-Plus-Ocean-...</td>\n",
              "      <td>https://images-na.ssl-images-amazon.com/images...</td>\n",
              "      <td>₹ 5,999.00</td>\n",
              "      <td>3.1 out of 5 stars</td>\n",
              "      <td>76 customer reviews</td>\n",
              "      <td>69 answered questions</td>\n",
              "      <td>Coolpad Cool 3 Plus-Designed for all, 5.71'' H...</td>\n",
              "      <td>13MP primary camera with bokeh mode, timelapse...</td>\n",
              "      <td>Low bagget high kwality***It's not good Phone ...</td>\n",
              "    </tr>\n",
              "    <tr>\n",
              "      <th>3</th>\n",
              "      <td>Redmi 6 Pro (Black, 3GB RAM, 32GB Storage)</td>\n",
              "      <td>Mi</td>\n",
              "      <td>https://www.amazon.in/Redmi-Pro-Black-32GB-Sto...</td>\n",
              "      <td>https://images-na.ssl-images-amazon.com/images...</td>\n",
              "      <td>NaN</td>\n",
              "      <td>4.1 out of 5 stars</td>\n",
              "      <td>32,250 customer reviews</td>\n",
              "      <td>1000+ answered questions</td>\n",
              "      <td>Qualcomm Snapdragon 625, 2.0 GHz processor wit...</td>\n",
              "      <td>12MP+5MP dual rear camera | 5MP front facing c...</td>\n",
              "      <td>Display quality is top notch, overall the qual...</td>\n",
              "    </tr>\n",
              "    <tr>\n",
              "      <th>4</th>\n",
              "      <td>Nokia 105 (Black)</td>\n",
              "      <td>Nokia</td>\n",
              "      <td>https://www.amazon.in/Nokia-105-Black/dp/B0745...</td>\n",
              "      <td>https://images-na.ssl-images-amazon.com/images...</td>\n",
              "      <td>NaN</td>\n",
              "      <td>4.1 out of 5 stars</td>\n",
              "      <td>6,474 customer reviews</td>\n",
              "      <td>1000+ answered questions</td>\n",
              "      <td>The design Shaped for your palm Featuring a cu...</td>\n",
              "      <td>4.572 centimeters (1.8-inch) display with 240 ...</td>\n",
              "      <td>Using the mobile phone for last 3 months. I am...</td>\n",
              "    </tr>\n",
              "  </tbody>\n",
              "</table>\n",
              "</div>"
            ],
            "text/plain": [
              "                                        Product_name  ...                                        cust_review\n",
              "0            Samsung Galaxy M10 (Ocean Blue, 3+32GB)  ...  Well, I was a bit sceptical before buying this...\n",
              "1         Redmi 6 Pro (Black, 4GB RAM, 64GB Storage)  ...  Display quality is top notch, overall the qual...\n",
              "2  Coolpad Cool 3 Plus (Ocean Blue, 2GB RAM, 16GB...  ...  Low bagget high kwality***It's not good Phone ...\n",
              "3         Redmi 6 Pro (Black, 3GB RAM, 32GB Storage)  ...  Display quality is top notch, overall the qual...\n",
              "4                                  Nokia 105 (Black)  ...  Using the mobile phone for last 3 months. I am...\n",
              "\n",
              "[5 rows x 11 columns]"
            ]
          },
          "metadata": {
            "tags": []
          },
          "execution_count": 6
        }
      ]
    },
    {
      "cell_type": "code",
      "metadata": {
        "id": "wgu0m4pEOnJb",
        "colab_type": "code",
        "colab": {}
      },
      "source": [
        "data = pd.DataFrame({'Product_name':data['Product_name'],'prod_des':data['prod_des']}).dropna().reset_index(drop = True)"
      ],
      "execution_count": 0,
      "outputs": []
    },
    {
      "cell_type": "code",
      "metadata": {
        "id": "74WIf7KlD9Gx",
        "colab_type": "code",
        "outputId": "e634373e-7610-4de2-cfcb-4c8ae1ab87e1",
        "colab": {
          "base_uri": "https://localhost:8080/",
          "height": 419
        }
      },
      "source": [
        "data"
      ],
      "execution_count": 8,
      "outputs": [
        {
          "output_type": "execute_result",
          "data": {
            "text/html": [
              "<div>\n",
              "<style scoped>\n",
              "    .dataframe tbody tr th:only-of-type {\n",
              "        vertical-align: middle;\n",
              "    }\n",
              "\n",
              "    .dataframe tbody tr th {\n",
              "        vertical-align: top;\n",
              "    }\n",
              "\n",
              "    .dataframe thead th {\n",
              "        text-align: right;\n",
              "    }\n",
              "</style>\n",
              "<table border=\"1\" class=\"dataframe\">\n",
              "  <thead>\n",
              "    <tr style=\"text-align: right;\">\n",
              "      <th></th>\n",
              "      <th>Product_name</th>\n",
              "      <th>prod_des</th>\n",
              "    </tr>\n",
              "  </thead>\n",
              "  <tbody>\n",
              "    <tr>\n",
              "      <th>0</th>\n",
              "      <td>Samsung Galaxy M10 (Ocean Blue, 3+32GB)</td>\n",
              "      <td>The Samsung Galaxy M10 is especially created f...</td>\n",
              "    </tr>\n",
              "    <tr>\n",
              "      <th>1</th>\n",
              "      <td>Redmi 6 Pro (Black, 4GB RAM, 64GB Storage)</td>\n",
              "      <td>Qualcomm Snapdragon 625, 2.0 GHz processor wit...</td>\n",
              "    </tr>\n",
              "    <tr>\n",
              "      <th>2</th>\n",
              "      <td>Coolpad Cool 3 Plus (Ocean Blue, 2GB RAM, 16GB...</td>\n",
              "      <td>Coolpad Cool 3 Plus-Designed for all, 5.71'' H...</td>\n",
              "    </tr>\n",
              "    <tr>\n",
              "      <th>3</th>\n",
              "      <td>Redmi 6 Pro (Black, 3GB RAM, 32GB Storage)</td>\n",
              "      <td>Qualcomm Snapdragon 625, 2.0 GHz processor wit...</td>\n",
              "    </tr>\n",
              "    <tr>\n",
              "      <th>4</th>\n",
              "      <td>Nokia 105 (Black)</td>\n",
              "      <td>The design Shaped for your palm Featuring a cu...</td>\n",
              "    </tr>\n",
              "    <tr>\n",
              "      <th>...</th>\n",
              "      <td>...</td>\n",
              "      <td>...</td>\n",
              "    </tr>\n",
              "    <tr>\n",
              "      <th>3409</th>\n",
              "      <td>TokyoTon Mobile Battery for Moto M XT1662 XT16...</td>\n",
              "      <td>TokyoTon Mobile Battery for Moto M XT1662 XT16...</td>\n",
              "    </tr>\n",
              "    <tr>\n",
              "      <th>3410</th>\n",
              "      <td>AM Safe x Cable for iPhone LED Fast Charging D...</td>\n",
              "      <td>Fast Charging Nylon Braided USB LED Cable for ...</td>\n",
              "    </tr>\n",
              "    <tr>\n",
              "      <th>3411</th>\n",
              "      <td>Ktrack Metal and Plastic Open Pry Screwdriver ...</td>\n",
              "      <td>Product: Tool Metal and plastic. 8 in 1 tools ...</td>\n",
              "    </tr>\n",
              "    <tr>\n",
              "      <th>3412</th>\n",
              "      <td>Samsung S-View Flip Cover for Samsung Galaxy S...</td>\n",
              "      <td>The S-View Flip Cover, Clear allows you to see...</td>\n",
              "    </tr>\n",
              "    <tr>\n",
              "      <th>3413</th>\n",
              "      <td>TheGiftKart Full Body 3 in 1 Slim Fit 360 Degr...</td>\n",
              "      <td>DESCRIPTION:br&gt;Beautiful design, elegant appea...</td>\n",
              "    </tr>\n",
              "  </tbody>\n",
              "</table>\n",
              "<p>3414 rows × 2 columns</p>\n",
              "</div>"
            ],
            "text/plain": [
              "                                           Product_name                                           prod_des\n",
              "0               Samsung Galaxy M10 (Ocean Blue, 3+32GB)  The Samsung Galaxy M10 is especially created f...\n",
              "1            Redmi 6 Pro (Black, 4GB RAM, 64GB Storage)  Qualcomm Snapdragon 625, 2.0 GHz processor wit...\n",
              "2     Coolpad Cool 3 Plus (Ocean Blue, 2GB RAM, 16GB...  Coolpad Cool 3 Plus-Designed for all, 5.71'' H...\n",
              "3            Redmi 6 Pro (Black, 3GB RAM, 32GB Storage)  Qualcomm Snapdragon 625, 2.0 GHz processor wit...\n",
              "4                                     Nokia 105 (Black)  The design Shaped for your palm Featuring a cu...\n",
              "...                                                 ...                                                ...\n",
              "3409  TokyoTon Mobile Battery for Moto M XT1662 XT16...  TokyoTon Mobile Battery for Moto M XT1662 XT16...\n",
              "3410  AM Safe x Cable for iPhone LED Fast Charging D...  Fast Charging Nylon Braided USB LED Cable for ...\n",
              "3411  Ktrack Metal and Plastic Open Pry Screwdriver ...  Product: Tool Metal and plastic. 8 in 1 tools ...\n",
              "3412  Samsung S-View Flip Cover for Samsung Galaxy S...  The S-View Flip Cover, Clear allows you to see...\n",
              "3413  TheGiftKart Full Body 3 in 1 Slim Fit 360 Degr...  DESCRIPTION:br>Beautiful design, elegant appea...\n",
              "\n",
              "[3414 rows x 2 columns]"
            ]
          },
          "metadata": {
            "tags": []
          },
          "execution_count": 8
        }
      ]
    },
    {
      "cell_type": "markdown",
      "metadata": {
        "id": "jnU4_dsF9Q8p",
        "colab_type": "text"
      },
      "source": [
        "#1. Search Appropriate Keywords\n",
        "Search engine appropriate keywords can be:</br>\n",
        "a. Specific : eg. Samsung Galaxy, Flip cover, Redmi note 3, etc. i.e. proper nouns</br>\n",
        "b. General :Features such as: Smartphone, earphone, tangle free earphone (nouns other than proper)\n",
        "\n",
        "Task: To extract search engine appropriate keywords for a given product description"
      ]
    },
    {
      "cell_type": "markdown",
      "metadata": {
        "id": "sEPfhSSeXT9G",
        "colab_type": "text"
      },
      "source": [
        "## 1. POS tagging approach"
      ]
    },
    {
      "cell_type": "code",
      "metadata": {
        "id": "NJriFDEdYbBi",
        "colab_type": "code",
        "colab": {}
      },
      "source": [
        "def extract_noun(doc):\n",
        "  return ([i for i in nlp(doc) if i.pos_=='NOUN'],[i for i in nlp(doc) if i.pos_=='PROPN'])"
      ],
      "execution_count": 0,
      "outputs": []
    },
    {
      "cell_type": "code",
      "metadata": {
        "id": "_BwRuKwQYJ6Y",
        "colab_type": "code",
        "colab": {}
      },
      "source": [
        "data['noun_keywords'] =  data['prod_des'].apply(extract_noun)"
      ],
      "execution_count": 0,
      "outputs": []
    },
    {
      "cell_type": "code",
      "metadata": {
        "id": "w617G7MKY5cA",
        "colab_type": "code",
        "colab": {}
      },
      "source": [
        "df_noun_out = pd.DataFrame(data = {'Product_name': data['Product_name'],'prod_des':data['prod_des'],'keywords':data['noun_keywords']})"
      ],
      "execution_count": 0,
      "outputs": []
    },
    {
      "cell_type": "code",
      "metadata": {
        "id": "IvWzDp93cmuc",
        "colab_type": "code",
        "outputId": "85e1a310-bfef-4291-e0c8-f164369a41bd",
        "colab": {
          "base_uri": "https://localhost:8080/",
          "height": 204
        }
      },
      "source": [
        "df_noun_out.head()"
      ],
      "execution_count": 14,
      "outputs": [
        {
          "output_type": "execute_result",
          "data": {
            "text/html": [
              "<div>\n",
              "<style scoped>\n",
              "    .dataframe tbody tr th:only-of-type {\n",
              "        vertical-align: middle;\n",
              "    }\n",
              "\n",
              "    .dataframe tbody tr th {\n",
              "        vertical-align: top;\n",
              "    }\n",
              "\n",
              "    .dataframe thead th {\n",
              "        text-align: right;\n",
              "    }\n",
              "</style>\n",
              "<table border=\"1\" class=\"dataframe\">\n",
              "  <thead>\n",
              "    <tr style=\"text-align: right;\">\n",
              "      <th></th>\n",
              "      <th>Product_name</th>\n",
              "      <th>prod_des</th>\n",
              "      <th>keywords</th>\n",
              "    </tr>\n",
              "  </thead>\n",
              "  <tbody>\n",
              "    <tr>\n",
              "      <th>0</th>\n",
              "      <td>Samsung Galaxy M10 (Ocean Blue, 3+32GB)</td>\n",
              "      <td>The Samsung Galaxy M10 is especially created f...</td>\n",
              "      <td>([millennials, edge, infinity, V, display, ang...</td>\n",
              "    </tr>\n",
              "    <tr>\n",
              "      <th>1</th>\n",
              "      <td>Redmi 6 Pro (Black, 4GB RAM, 64GB Storage)</td>\n",
              "      <td>Qualcomm Snapdragon 625, 2.0 GHz processor wit...</td>\n",
              "      <td>([GHz, processor, nm, architecture, battery, c...</td>\n",
              "    </tr>\n",
              "    <tr>\n",
              "      <th>2</th>\n",
              "      <td>Coolpad Cool 3 Plus (Ocean Blue, 2GB RAM, 16GB...</td>\n",
              "      <td>Coolpad Cool 3 Plus-Designed for all, 5.71'' H...</td>\n",
              "      <td>([HD, dewdrop, display, GB, ROM, upto, sensor,...</td>\n",
              "    </tr>\n",
              "    <tr>\n",
              "      <th>3</th>\n",
              "      <td>Redmi 6 Pro (Black, 3GB RAM, 32GB Storage)</td>\n",
              "      <td>Qualcomm Snapdragon 625, 2.0 GHz processor wit...</td>\n",
              "      <td>([GHz, processor, nm, architecture, battery, c...</td>\n",
              "    </tr>\n",
              "    <tr>\n",
              "      <th>4</th>\n",
              "      <td>Nokia 105 (Black)</td>\n",
              "      <td>The design Shaped for your palm Featuring a cu...</td>\n",
              "      <td>([design, palm, body, island, layout, dialling...</td>\n",
              "    </tr>\n",
              "  </tbody>\n",
              "</table>\n",
              "</div>"
            ],
            "text/plain": [
              "                                        Product_name  ...                                           keywords\n",
              "0            Samsung Galaxy M10 (Ocean Blue, 3+32GB)  ...  ([millennials, edge, infinity, V, display, ang...\n",
              "1         Redmi 6 Pro (Black, 4GB RAM, 64GB Storage)  ...  ([GHz, processor, nm, architecture, battery, c...\n",
              "2  Coolpad Cool 3 Plus (Ocean Blue, 2GB RAM, 16GB...  ...  ([HD, dewdrop, display, GB, ROM, upto, sensor,...\n",
              "3         Redmi 6 Pro (Black, 3GB RAM, 32GB Storage)  ...  ([GHz, processor, nm, architecture, battery, c...\n",
              "4                                  Nokia 105 (Black)  ...  ([design, palm, body, island, layout, dialling...\n",
              "\n",
              "[5 rows x 3 columns]"
            ]
          },
          "metadata": {
            "tags": []
          },
          "execution_count": 14
        }
      ]
    },
    {
      "cell_type": "code",
      "metadata": {
        "id": "yDg1FUMNacwZ",
        "colab_type": "code",
        "colab": {
          "base_uri": "https://localhost:8080/",
          "height": 204
        },
        "outputId": "178adaf2-d6b2-4312-fe8a-9e4ac8a62f98"
      },
      "source": [
        "df_noun_out.tail()"
      ],
      "execution_count": 15,
      "outputs": [
        {
          "output_type": "execute_result",
          "data": {
            "text/html": [
              "<div>\n",
              "<style scoped>\n",
              "    .dataframe tbody tr th:only-of-type {\n",
              "        vertical-align: middle;\n",
              "    }\n",
              "\n",
              "    .dataframe tbody tr th {\n",
              "        vertical-align: top;\n",
              "    }\n",
              "\n",
              "    .dataframe thead th {\n",
              "        text-align: right;\n",
              "    }\n",
              "</style>\n",
              "<table border=\"1\" class=\"dataframe\">\n",
              "  <thead>\n",
              "    <tr style=\"text-align: right;\">\n",
              "      <th></th>\n",
              "      <th>Product_name</th>\n",
              "      <th>prod_des</th>\n",
              "      <th>keywords</th>\n",
              "    </tr>\n",
              "  </thead>\n",
              "  <tbody>\n",
              "    <tr>\n",
              "      <th>3409</th>\n",
              "      <td>TokyoTon Mobile Battery for Moto M XT1662 XT16...</td>\n",
              "      <td>TokyoTon Mobile Battery for Moto M XT1662 XT16...</td>\n",
              "      <td>([], [TokyoTon, Mobile, Battery, Moto, M, XT16...</td>\n",
              "    </tr>\n",
              "    <tr>\n",
              "      <th>3410</th>\n",
              "      <td>AM Safe x Cable for iPhone LED Fast Charging D...</td>\n",
              "      <td>Fast Charging Nylon Braided USB LED Cable for ...</td>\n",
              "      <td>([USB], [Fast, Charging, Nylon, Braided, LED, ...</td>\n",
              "    </tr>\n",
              "    <tr>\n",
              "      <th>3411</th>\n",
              "      <td>Ktrack Metal and Plastic Open Pry Screwdriver ...</td>\n",
              "      <td>Product: Tool Metal and plastic. 8 in 1 tools ...</td>\n",
              "      <td>([Product, Metal, plastic, tools, scrapers, sc...</td>\n",
              "    </tr>\n",
              "    <tr>\n",
              "      <th>3412</th>\n",
              "      <td>Samsung S-View Flip Cover for Samsung Galaxy S...</td>\n",
              "      <td>The S-View Flip Cover, Clear allows you to see...</td>\n",
              "      <td>([folio, complement, edge, calls, alarms, even...</td>\n",
              "    </tr>\n",
              "    <tr>\n",
              "      <th>3413</th>\n",
              "      <td>TheGiftKart Full Body 3 in 1 Slim Fit 360 Degr...</td>\n",
              "      <td>DESCRIPTION:br&gt;Beautiful design, elegant appea...</td>\n",
              "      <td>([DESCRIPTION, design, appearance, protection,...</td>\n",
              "    </tr>\n",
              "  </tbody>\n",
              "</table>\n",
              "</div>"
            ],
            "text/plain": [
              "                                           Product_name  ...                                           keywords\n",
              "3409  TokyoTon Mobile Battery for Moto M XT1662 XT16...  ...  ([], [TokyoTon, Mobile, Battery, Moto, M, XT16...\n",
              "3410  AM Safe x Cable for iPhone LED Fast Charging D...  ...  ([USB], [Fast, Charging, Nylon, Braided, LED, ...\n",
              "3411  Ktrack Metal and Plastic Open Pry Screwdriver ...  ...  ([Product, Metal, plastic, tools, scrapers, sc...\n",
              "3412  Samsung S-View Flip Cover for Samsung Galaxy S...  ...  ([folio, complement, edge, calls, alarms, even...\n",
              "3413  TheGiftKart Full Body 3 in 1 Slim Fit 360 Degr...  ...  ([DESCRIPTION, design, appearance, protection,...\n",
              "\n",
              "[5 rows x 3 columns]"
            ]
          },
          "metadata": {
            "tags": []
          },
          "execution_count": 15
        }
      ]
    },
    {
      "cell_type": "code",
      "metadata": {
        "id": "trhu_wUsQogN",
        "colab_type": "code",
        "colab": {}
      },
      "source": [
        "df_noun_out.to_csv('df_pos_output.csv',index = False)"
      ],
      "execution_count": 0,
      "outputs": []
    },
    {
      "cell_type": "markdown",
      "metadata": {
        "id": "_kXkWplBNR5s",
        "colab_type": "text"
      },
      "source": [
        "## 2. POS + TF-IDF approach"
      ]
    },
    {
      "cell_type": "code",
      "metadata": {
        "id": "GCaN_rXSla-d",
        "colab_type": "code",
        "colab": {}
      },
      "source": [
        "def tuple_to_list(t):\n",
        "  l1,l2 = t\n",
        "  l1.extend(l2)\n",
        "  return [str(i) for i in l1]"
      ],
      "execution_count": 0,
      "outputs": []
    },
    {
      "cell_type": "code",
      "metadata": {
        "id": "wfNydEG8kTKG",
        "colab_type": "code",
        "colab": {}
      },
      "source": [
        "data['keywords'] = df_noun_out['keywords'].apply(tuple_to_list)"
      ],
      "execution_count": 0,
      "outputs": []
    },
    {
      "cell_type": "code",
      "metadata": {
        "id": "oOunLi3Fp4Vs",
        "colab_type": "code",
        "outputId": "00bfd635-cea1-49df-dc9b-1ff86202ac69",
        "colab": {
          "base_uri": "https://localhost:8080/",
          "height": 221
        }
      },
      "source": [
        "data['keywords']"
      ],
      "execution_count": 19,
      "outputs": [
        {
          "output_type": "execute_result",
          "data": {
            "text/plain": [
              "0       [millennials, edge, infinity, V, display, angl...\n",
              "1       [GHz, processor, nm, architecture, battery, ca...\n",
              "2       [HD, dewdrop, display, GB, ROM, upto, sensor, ...\n",
              "3       [GHz, processor, nm, architecture, battery, ca...\n",
              "4       [design, palm, body, island, layout, dialling,...\n",
              "                              ...                        \n",
              "3409    [TokyoTon, Mobile, Battery, Moto, M, XT1662, X...\n",
              "3410    [USB, Fast, Charging, Nylon, Braided, LED, Cab...\n",
              "3411    [Product, Metal, plastic, tools, scrapers, scr...\n",
              "3412    [folio, complement, edge, calls, alarms, event...\n",
              "3413    [DESCRIPTION, design, appearance, protection, ...\n",
              "Name: keywords, Length: 3414, dtype: object"
            ]
          },
          "metadata": {
            "tags": []
          },
          "execution_count": 19
        }
      ]
    },
    {
      "cell_type": "code",
      "metadata": {
        "id": "os3-_zSbfmqf",
        "colab_type": "code",
        "colab": {}
      },
      "source": [
        "df = [' '.join(i) for i in data['keywords']] "
      ],
      "execution_count": 0,
      "outputs": []
    },
    {
      "cell_type": "markdown",
      "metadata": {
        "colab_type": "text",
        "id": "lFHyA8Mka4-2"
      },
      "source": [
        "### Trial 1:"
      ]
    },
    {
      "cell_type": "code",
      "metadata": {
        "colab_type": "code",
        "outputId": "afa70f0d-3757-469c-fa52-30caaedc6737",
        "id": "B_8QirNsa4-w",
        "colab": {
          "base_uri": "https://localhost:8080/",
          "height": 71
        }
      },
      "source": [
        "vectorizer1 = TfidfVectorizer(df,lowercase = True, analyzer='word', stop_words='english', min_df = 0.1,max_df = 0.9)\n",
        "tfidfmat1 = vectorizer1.fit_transform(df)\n",
        "print(\"TFIDF shape: \", tfidfmat1.shape)\n",
        "print(\"Terms in TFIDF: \",vectorizer1.get_feature_names())"
      ],
      "execution_count": 24,
      "outputs": [
        {
          "output_type": "stream",
          "text": [
            "TFIDF shape:  (3414, 27)\n",
            "Terms in TFIDF:  ['access', 'android', 'battery', 'buttons', 'camera', 'case', 'cover', 'design', 'device', 'display', 'experience', 'features', 'gb', 'material', 'mobile', 'music', 'phone', 'phones', 'power', 'product', 'protection', 'quality', 'scratches', 'screen', 'smartphone', 'technology', 'time']\n"
          ],
          "name": "stdout"
        }
      ]
    },
    {
      "cell_type": "markdown",
      "metadata": {
        "id": "kuhOcET3OC6B",
        "colab_type": "text"
      },
      "source": [
        "### Trial 1.2 : Top 5"
      ]
    },
    {
      "cell_type": "markdown",
      "metadata": {
        "id": "yasO8A9XLYrW",
        "colab_type": "text"
      },
      "source": [
        "#### simple topn "
      ]
    },
    {
      "cell_type": "code",
      "metadata": {
        "id": "cLeeKcJqXSiH",
        "colab_type": "code",
        "colab": {}
      },
      "source": [
        "def topn(tfidfmat,n):\n",
        "  lst = []\n",
        "  lst = [tfidfmat.todense()[i].argsort()[:,-n:] for i in range(tfidfmat.shape[0])]\n",
        "  return lst"
      ],
      "execution_count": 0,
      "outputs": []
    },
    {
      "cell_type": "code",
      "metadata": {
        "colab_type": "code",
        "id": "ffdSbpQZzGMe",
        "colab": {}
      },
      "source": [
        "def get_topn_multi_keywords(tfidfmat,n,terms):\n",
        "  topn_lst_indices = topn(tfidfmat,n)\n",
        "  topn_lst_indices = np.array(topn_lst_indices).reshape((tfidfmat.shape[0],n))\n",
        "  doc_keywords = [[terms[i] for i in l] for l in topn_lst_indices]\n",
        "  return doc_keywords"
      ],
      "execution_count": 0,
      "outputs": []
    },
    {
      "cell_type": "code",
      "metadata": {
        "id": "3mbtPYdvy1tv",
        "colab_type": "code",
        "outputId": "6ea16b64-3f38-4f7a-9498-65ed2415aba8",
        "colab": {
          "base_uri": "https://localhost:8080/",
          "height": 419
        }
      },
      "source": [
        "doc_keywords = get_topn_multi_keywords(tfidfmat1,3,terms)\n",
        "df_tfidf_out1 = pd.DataFrame(data = {'Product_name': data['Product_name'],'prod_des':data['prod_des'],'multi_keywords':doc_keywords})\n",
        "df_tfidf_out1"
      ],
      "execution_count": 27,
      "outputs": [
        {
          "output_type": "execute_result",
          "data": {
            "text/html": [
              "<div>\n",
              "<style scoped>\n",
              "    .dataframe tbody tr th:only-of-type {\n",
              "        vertical-align: middle;\n",
              "    }\n",
              "\n",
              "    .dataframe tbody tr th {\n",
              "        vertical-align: top;\n",
              "    }\n",
              "\n",
              "    .dataframe thead th {\n",
              "        text-align: right;\n",
              "    }\n",
              "</style>\n",
              "<table border=\"1\" class=\"dataframe\">\n",
              "  <thead>\n",
              "    <tr style=\"text-align: right;\">\n",
              "      <th></th>\n",
              "      <th>Product_name</th>\n",
              "      <th>prod_des</th>\n",
              "      <th>multi_keywords</th>\n",
              "    </tr>\n",
              "  </thead>\n",
              "  <tbody>\n",
              "    <tr>\n",
              "      <th>0</th>\n",
              "      <td>Samsung Galaxy M10 (Ocean Blue, 3+32GB)</td>\n",
              "      <td>The Samsung Galaxy M10 is especially created f...</td>\n",
              "      <td>[camera, display, smartphone]</td>\n",
              "    </tr>\n",
              "    <tr>\n",
              "      <th>1</th>\n",
              "      <td>Redmi 6 Pro (Black, 4GB RAM, 64GB Storage)</td>\n",
              "      <td>Qualcomm Snapdragon 625, 2.0 GHz processor wit...</td>\n",
              "      <td>[android, camera, gb]</td>\n",
              "    </tr>\n",
              "    <tr>\n",
              "      <th>2</th>\n",
              "      <td>Coolpad Cool 3 Plus (Ocean Blue, 2GB RAM, 16GB...</td>\n",
              "      <td>Coolpad Cool 3 Plus-Designed for all, 5.71'' H...</td>\n",
              "      <td>[display, android, gb]</td>\n",
              "    </tr>\n",
              "    <tr>\n",
              "      <th>3</th>\n",
              "      <td>Redmi 6 Pro (Black, 3GB RAM, 32GB Storage)</td>\n",
              "      <td>Qualcomm Snapdragon 625, 2.0 GHz processor wit...</td>\n",
              "      <td>[android, camera, gb]</td>\n",
              "    </tr>\n",
              "    <tr>\n",
              "      <th>4</th>\n",
              "      <td>Nokia 105 (Black)</td>\n",
              "      <td>The design Shaped for your palm Featuring a cu...</td>\n",
              "      <td>[quality, battery, time]</td>\n",
              "    </tr>\n",
              "    <tr>\n",
              "      <th>...</th>\n",
              "      <td>...</td>\n",
              "      <td>...</td>\n",
              "      <td>...</td>\n",
              "    </tr>\n",
              "    <tr>\n",
              "      <th>3409</th>\n",
              "      <td>TokyoTon Mobile Battery for Moto M XT1662 XT16...</td>\n",
              "      <td>TokyoTon Mobile Battery for Moto M XT1662 XT16...</td>\n",
              "      <td>[time, battery, mobile]</td>\n",
              "    </tr>\n",
              "    <tr>\n",
              "      <th>3410</th>\n",
              "      <td>AM Safe x Cable for iPhone LED Fast Charging D...</td>\n",
              "      <td>Fast Charging Nylon Braided USB LED Cable for ...</td>\n",
              "      <td>[android, gb, time]</td>\n",
              "    </tr>\n",
              "    <tr>\n",
              "      <th>3411</th>\n",
              "      <td>Ktrack Metal and Plastic Open Pry Screwdriver ...</td>\n",
              "      <td>Product: Tool Metal and plastic. 8 in 1 tools ...</td>\n",
              "      <td>[product, phones, cover]</td>\n",
              "    </tr>\n",
              "    <tr>\n",
              "      <th>3412</th>\n",
              "      <td>Samsung S-View Flip Cover for Samsung Galaxy S...</td>\n",
              "      <td>The S-View Flip Cover, Clear allows you to see...</td>\n",
              "      <td>[features, access, cover]</td>\n",
              "    </tr>\n",
              "    <tr>\n",
              "      <th>3413</th>\n",
              "      <td>TheGiftKart Full Body 3 in 1 Slim Fit 360 Degr...</td>\n",
              "      <td>DESCRIPTION:br&gt;Beautiful design, elegant appea...</td>\n",
              "      <td>[phone, case, protection]</td>\n",
              "    </tr>\n",
              "  </tbody>\n",
              "</table>\n",
              "<p>3414 rows × 3 columns</p>\n",
              "</div>"
            ],
            "text/plain": [
              "                                           Product_name  ...                 multi_keywords\n",
              "0               Samsung Galaxy M10 (Ocean Blue, 3+32GB)  ...  [camera, display, smartphone]\n",
              "1            Redmi 6 Pro (Black, 4GB RAM, 64GB Storage)  ...          [android, camera, gb]\n",
              "2     Coolpad Cool 3 Plus (Ocean Blue, 2GB RAM, 16GB...  ...         [display, android, gb]\n",
              "3            Redmi 6 Pro (Black, 3GB RAM, 32GB Storage)  ...          [android, camera, gb]\n",
              "4                                     Nokia 105 (Black)  ...       [quality, battery, time]\n",
              "...                                                 ...  ...                            ...\n",
              "3409  TokyoTon Mobile Battery for Moto M XT1662 XT16...  ...        [time, battery, mobile]\n",
              "3410  AM Safe x Cable for iPhone LED Fast Charging D...  ...            [android, gb, time]\n",
              "3411  Ktrack Metal and Plastic Open Pry Screwdriver ...  ...       [product, phones, cover]\n",
              "3412  Samsung S-View Flip Cover for Samsung Galaxy S...  ...      [features, access, cover]\n",
              "3413  TheGiftKart Full Body 3 in 1 Slim Fit 360 Degr...  ...      [phone, case, protection]\n",
              "\n",
              "[3414 rows x 3 columns]"
            ]
          },
          "metadata": {
            "tags": []
          },
          "execution_count": 27
        }
      ]
    },
    {
      "cell_type": "markdown",
      "metadata": {
        "id": "e9OZyjG-wVRI",
        "colab_type": "text"
      },
      "source": [
        "### Trial 2: TFIDF + POS tagging on Preprocessed"
      ]
    },
    {
      "cell_type": "code",
      "metadata": {
        "id": "KnpmKDxgeAA-",
        "colab_type": "code",
        "colab": {}
      },
      "source": [
        "def preprocessing(s):\n",
        "  s = re.sub('[!\"#$%&\\'()*+,-./:;<=>?@[\\\\]^_`{|}~]','',s)\n",
        "  s = re.sub(r\"http\\S+\",'', s)  \n",
        "  d = nlp(s)\n",
        "  lemmas = [token.lemma_ for token in d if not token.is_stop]\n",
        "  return lemmas"
      ],
      "execution_count": 0,
      "outputs": []
    },
    {
      "cell_type": "code",
      "metadata": {
        "id": "_e-e-MLfdeDa",
        "colab_type": "code",
        "colab": {}
      },
      "source": [
        "pre_df = [preprocessing(i) for i in df]"
      ],
      "execution_count": 0,
      "outputs": []
    },
    {
      "cell_type": "code",
      "metadata": {
        "id": "89V2j4LI5mn8",
        "colab_type": "code",
        "outputId": "097b0b5e-9588-4ba4-d37b-11ba7161443a",
        "colab": {
          "base_uri": "https://localhost:8080/",
          "height": 255
        }
      },
      "source": [
        "pre_df[0]"
      ],
      "execution_count": 31,
      "outputs": [
        {
          "output_type": "execute_result",
          "data": {
            "text/plain": [
              "['millennial',\n",
              " 'edge',\n",
              " 'infinity',\n",
              " 'V',\n",
              " 'display',\n",
              " 'angle',\n",
              " 'camera',\n",
              " 'processor',\n",
              " 'smartphone',\n",
              " 'Samsung',\n",
              " 'Galaxy',\n",
              " 'M10',\n",
              " 'Galaxy',\n",
              " 'M10']"
            ]
          },
          "metadata": {
            "tags": []
          },
          "execution_count": 31
        }
      ]
    },
    {
      "cell_type": "code",
      "metadata": {
        "id": "_L6p14v79r9M",
        "colab_type": "code",
        "colab": {}
      },
      "source": [
        "docs = [' '.join(i) for i in pre_df]"
      ],
      "execution_count": 0,
      "outputs": []
    },
    {
      "cell_type": "code",
      "metadata": {
        "id": "rm-5SV7BBoiQ",
        "colab_type": "code",
        "outputId": "3ace5764-a4a9-4f06-e4ed-3c8f9b56a205",
        "colab": {
          "base_uri": "https://localhost:8080/",
          "height": 34
        }
      },
      "source": [
        "vectorizer2 = TfidfVectorizer(docs,lowercase = True, min_df = 0.05,max_df = 0.95)\n",
        "tfidfmat2 = vectorizer2.fit_transform(docs)\n",
        "tfidfmat2.shape"
      ],
      "execution_count": 34,
      "outputs": [
        {
          "output_type": "execute_result",
          "data": {
            "text/plain": [
              "(3414, 116)"
            ]
          },
          "metadata": {
            "tags": []
          },
          "execution_count": 34
        }
      ]
    },
    {
      "cell_type": "code",
      "metadata": {
        "id": "55TrTGKyB8zi",
        "colab_type": "code",
        "outputId": "2d247ade-8d8a-41f4-c28b-73e6c8936eb3",
        "colab": {
          "base_uri": "https://localhost:8080/",
          "height": 34
        }
      },
      "source": [
        "vectorizer2.get_feature_names()[:5]"
      ],
      "execution_count": 36,
      "outputs": [
        {
          "output_type": "execute_result",
          "data": {
            "text/plain": [
              "['access', 'android', 'audio', 'bass', 'battery']"
            ]
          },
          "metadata": {
            "tags": []
          },
          "execution_count": 36
        }
      ]
    },
    {
      "cell_type": "code",
      "metadata": {
        "id": "Bm1eGHSRCO7B",
        "colab_type": "code",
        "outputId": "f3eea33c-2ac7-4915-b28e-7fd416d40ce8",
        "colab": {
          "base_uri": "https://localhost:8080/",
          "height": 419
        }
      },
      "source": [
        "max_ind = [np.argmax(i) for i in tfidfmat2.todense()]\n",
        "terms2 = vectorizer2.get_feature_names()\n",
        "doc_keywords = [terms2[i] for i in max_ind]\n",
        "df_tfidf_out2 = pd.DataFrame(data = {'Product_name': data['Product_name'],'prod_des':data['prod_des'],'keywords':doc_keywords})\n",
        "df_tfidf_out2"
      ],
      "execution_count": 37,
      "outputs": [
        {
          "output_type": "execute_result",
          "data": {
            "text/html": [
              "<div>\n",
              "<style scoped>\n",
              "    .dataframe tbody tr th:only-of-type {\n",
              "        vertical-align: middle;\n",
              "    }\n",
              "\n",
              "    .dataframe tbody tr th {\n",
              "        vertical-align: top;\n",
              "    }\n",
              "\n",
              "    .dataframe thead th {\n",
              "        text-align: right;\n",
              "    }\n",
              "</style>\n",
              "<table border=\"1\" class=\"dataframe\">\n",
              "  <thead>\n",
              "    <tr style=\"text-align: right;\">\n",
              "      <th></th>\n",
              "      <th>Product_name</th>\n",
              "      <th>prod_des</th>\n",
              "      <th>keywords</th>\n",
              "    </tr>\n",
              "  </thead>\n",
              "  <tbody>\n",
              "    <tr>\n",
              "      <th>0</th>\n",
              "      <td>Samsung Galaxy M10 (Ocean Blue, 3+32GB)</td>\n",
              "      <td>The Samsung Galaxy M10 is especially created f...</td>\n",
              "      <td>galaxy</td>\n",
              "    </tr>\n",
              "    <tr>\n",
              "      <th>1</th>\n",
              "      <td>Redmi 6 Pro (Black, 4GB RAM, 64GB Storage)</td>\n",
              "      <td>Qualcomm Snapdragon 625, 2.0 GHz processor wit...</td>\n",
              "      <td>mp</td>\n",
              "    </tr>\n",
              "    <tr>\n",
              "      <th>2</th>\n",
              "      <td>Coolpad Cool 3 Plus (Ocean Blue, 2GB RAM, 16GB...</td>\n",
              "      <td>Coolpad Cool 3 Plus-Designed for all, 5.71'' H...</td>\n",
              "      <td>gb</td>\n",
              "    </tr>\n",
              "    <tr>\n",
              "      <th>3</th>\n",
              "      <td>Redmi 6 Pro (Black, 3GB RAM, 32GB Storage)</td>\n",
              "      <td>Qualcomm Snapdragon 625, 2.0 GHz processor wit...</td>\n",
              "      <td>mp</td>\n",
              "    </tr>\n",
              "    <tr>\n",
              "      <th>4</th>\n",
              "      <td>Nokia 105 (Black)</td>\n",
              "      <td>The design Shaped for your palm Featuring a cu...</td>\n",
              "      <td>day</td>\n",
              "    </tr>\n",
              "    <tr>\n",
              "      <th>...</th>\n",
              "      <td>...</td>\n",
              "      <td>...</td>\n",
              "      <td>...</td>\n",
              "    </tr>\n",
              "    <tr>\n",
              "      <th>3409</th>\n",
              "      <td>TokyoTon Mobile Battery for Moto M XT1662 XT16...</td>\n",
              "      <td>TokyoTon Mobile Battery for Moto M XT1662 XT16...</td>\n",
              "      <td>mobile</td>\n",
              "    </tr>\n",
              "    <tr>\n",
              "      <th>3410</th>\n",
              "      <td>AM Safe x Cable for iPhone LED Fast Charging D...</td>\n",
              "      <td>Fast Charging Nylon Braided USB LED Cable for ...</td>\n",
              "      <td>iphone</td>\n",
              "    </tr>\n",
              "    <tr>\n",
              "      <th>3411</th>\n",
              "      <td>Ktrack Metal and Plastic Open Pry Screwdriver ...</td>\n",
              "      <td>Product: Tool Metal and plastic. 8 in 1 tools ...</td>\n",
              "      <td>cover</td>\n",
              "    </tr>\n",
              "    <tr>\n",
              "      <th>3412</th>\n",
              "      <td>Samsung S-View Flip Cover for Samsung Galaxy S...</td>\n",
              "      <td>The S-View Flip Cover, Clear allows you to see...</td>\n",
              "      <td>view</td>\n",
              "    </tr>\n",
              "    <tr>\n",
              "      <th>3413</th>\n",
              "      <td>TheGiftKart Full Body 3 in 1 Slim Fit 360 Degr...</td>\n",
              "      <td>DESCRIPTION:br&gt;Beautiful design, elegant appea...</td>\n",
              "      <td>protection</td>\n",
              "    </tr>\n",
              "  </tbody>\n",
              "</table>\n",
              "<p>3414 rows × 3 columns</p>\n",
              "</div>"
            ],
            "text/plain": [
              "                                           Product_name  ...    keywords\n",
              "0               Samsung Galaxy M10 (Ocean Blue, 3+32GB)  ...      galaxy\n",
              "1            Redmi 6 Pro (Black, 4GB RAM, 64GB Storage)  ...          mp\n",
              "2     Coolpad Cool 3 Plus (Ocean Blue, 2GB RAM, 16GB...  ...          gb\n",
              "3            Redmi 6 Pro (Black, 3GB RAM, 32GB Storage)  ...          mp\n",
              "4                                     Nokia 105 (Black)  ...         day\n",
              "...                                                 ...  ...         ...\n",
              "3409  TokyoTon Mobile Battery for Moto M XT1662 XT16...  ...      mobile\n",
              "3410  AM Safe x Cable for iPhone LED Fast Charging D...  ...      iphone\n",
              "3411  Ktrack Metal and Plastic Open Pry Screwdriver ...  ...       cover\n",
              "3412  Samsung S-View Flip Cover for Samsung Galaxy S...  ...        view\n",
              "3413  TheGiftKart Full Body 3 in 1 Slim Fit 360 Degr...  ...  protection\n",
              "\n",
              "[3414 rows x 3 columns]"
            ]
          },
          "metadata": {
            "tags": []
          },
          "execution_count": 37
        }
      ]
    },
    {
      "cell_type": "code",
      "metadata": {
        "id": "5lBlqys1bwNM",
        "colab_type": "code",
        "colab": {
          "base_uri": "https://localhost:8080/",
          "height": 419
        },
        "outputId": "7ecf40a6-e32a-4e5f-ebfd-21f1a142b232"
      },
      "source": [
        "doc_keywords = get_topn_multi_keywords(tfidfmat2,3,terms2)\n",
        "df_tfidf_out2 = pd.DataFrame(data = {'Product_name': data['Product_name'],'prod_des':data['prod_des'],'multi_keywords':doc_keywords})\n",
        "df_tfidf_out2"
      ],
      "execution_count": 39,
      "outputs": [
        {
          "output_type": "execute_result",
          "data": {
            "text/html": [
              "<div>\n",
              "<style scoped>\n",
              "    .dataframe tbody tr th:only-of-type {\n",
              "        vertical-align: middle;\n",
              "    }\n",
              "\n",
              "    .dataframe tbody tr th {\n",
              "        vertical-align: top;\n",
              "    }\n",
              "\n",
              "    .dataframe thead th {\n",
              "        text-align: right;\n",
              "    }\n",
              "</style>\n",
              "<table border=\"1\" class=\"dataframe\">\n",
              "  <thead>\n",
              "    <tr style=\"text-align: right;\">\n",
              "      <th></th>\n",
              "      <th>Product_name</th>\n",
              "      <th>prod_des</th>\n",
              "      <th>multi_keywords</th>\n",
              "    </tr>\n",
              "  </thead>\n",
              "  <tbody>\n",
              "    <tr>\n",
              "      <th>0</th>\n",
              "      <td>Samsung Galaxy M10 (Ocean Blue, 3+32GB)</td>\n",
              "      <td>The Samsung Galaxy M10 is especially created f...</td>\n",
              "      <td>[processor, edge, galaxy]</td>\n",
              "    </tr>\n",
              "    <tr>\n",
              "      <th>1</th>\n",
              "      <td>Redmi 6 Pro (Black, 4GB RAM, 64GB Storage)</td>\n",
              "      <td>Qualcomm Snapdragon 625, 2.0 GHz processor wit...</td>\n",
              "      <td>[flash, mode, mp]</td>\n",
              "    </tr>\n",
              "    <tr>\n",
              "      <th>2</th>\n",
              "      <td>Coolpad Cool 3 Plus (Ocean Blue, 2GB RAM, 16GB...</td>\n",
              "      <td>Coolpad Cool 3 Plus-Designed for all, 5.71'' H...</td>\n",
              "      <td>[hd, sensor, gb]</td>\n",
              "    </tr>\n",
              "    <tr>\n",
              "      <th>3</th>\n",
              "      <td>Redmi 6 Pro (Black, 3GB RAM, 32GB Storage)</td>\n",
              "      <td>Qualcomm Snapdragon 625, 2.0 GHz processor wit...</td>\n",
              "      <td>[flash, mode, mp]</td>\n",
              "    </tr>\n",
              "    <tr>\n",
              "      <th>4</th>\n",
              "      <td>Nokia 105 (Black)</td>\n",
              "      <td>The design Shaped for your palm Featuring a cu...</td>\n",
              "      <td>[color, hour, day]</td>\n",
              "    </tr>\n",
              "    <tr>\n",
              "      <th>...</th>\n",
              "      <td>...</td>\n",
              "      <td>...</td>\n",
              "      <td>...</td>\n",
              "    </tr>\n",
              "    <tr>\n",
              "      <th>3409</th>\n",
              "      <td>TokyoTon Mobile Battery for Moto M XT1662 XT16...</td>\n",
              "      <td>TokyoTon Mobile Battery for Moto M XT1662 XT16...</td>\n",
              "      <td>[wireless, battery, mobile]</td>\n",
              "    </tr>\n",
              "    <tr>\n",
              "      <th>3410</th>\n",
              "      <td>AM Safe x Cable for iPhone LED Fast Charging D...</td>\n",
              "      <td>Fast Charging Nylon Braided USB LED Cable for ...</td>\n",
              "      <td>[cable, usb, iphone]</td>\n",
              "    </tr>\n",
              "    <tr>\n",
              "      <th>3411</th>\n",
              "      <td>Ktrack Metal and Plastic Open Pry Screwdriver ...</td>\n",
              "      <td>Product: Tool Metal and plastic. 8 in 1 tools ...</td>\n",
              "      <td>[weight, iphone, cover]</td>\n",
              "    </tr>\n",
              "    <tr>\n",
              "      <th>3412</th>\n",
              "      <td>Samsung S-View Flip Cover for Samsung Galaxy S...</td>\n",
              "      <td>The S-View Flip Cover, Clear allows you to see...</td>\n",
              "      <td>[samsung, galaxy, view]</td>\n",
              "    </tr>\n",
              "    <tr>\n",
              "      <th>3413</th>\n",
              "      <td>TheGiftKart Full Body 3 in 1 Slim Fit 360 Degr...</td>\n",
              "      <td>DESCRIPTION:br&gt;Beautiful design, elegant appea...</td>\n",
              "      <td>[case, fit, protection]</td>\n",
              "    </tr>\n",
              "  </tbody>\n",
              "</table>\n",
              "<p>3414 rows × 3 columns</p>\n",
              "</div>"
            ],
            "text/plain": [
              "                                           Product_name  ...               multi_keywords\n",
              "0               Samsung Galaxy M10 (Ocean Blue, 3+32GB)  ...    [processor, edge, galaxy]\n",
              "1            Redmi 6 Pro (Black, 4GB RAM, 64GB Storage)  ...            [flash, mode, mp]\n",
              "2     Coolpad Cool 3 Plus (Ocean Blue, 2GB RAM, 16GB...  ...             [hd, sensor, gb]\n",
              "3            Redmi 6 Pro (Black, 3GB RAM, 32GB Storage)  ...            [flash, mode, mp]\n",
              "4                                     Nokia 105 (Black)  ...           [color, hour, day]\n",
              "...                                                 ...  ...                          ...\n",
              "3409  TokyoTon Mobile Battery for Moto M XT1662 XT16...  ...  [wireless, battery, mobile]\n",
              "3410  AM Safe x Cable for iPhone LED Fast Charging D...  ...         [cable, usb, iphone]\n",
              "3411  Ktrack Metal and Plastic Open Pry Screwdriver ...  ...      [weight, iphone, cover]\n",
              "3412  Samsung S-View Flip Cover for Samsung Galaxy S...  ...      [samsung, galaxy, view]\n",
              "3413  TheGiftKart Full Body 3 in 1 Slim Fit 360 Degr...  ...      [case, fit, protection]\n",
              "\n",
              "[3414 rows x 3 columns]"
            ]
          },
          "metadata": {
            "tags": []
          },
          "execution_count": 39
        }
      ]
    },
    {
      "cell_type": "markdown",
      "metadata": {
        "id": "qAbdb81ALP7l",
        "colab_type": "text"
      },
      "source": [
        "### Trial3"
      ]
    },
    {
      "cell_type": "code",
      "metadata": {
        "id": "QvgfJwsXK1E4",
        "colab_type": "code",
        "outputId": "06fd3c32-4ea1-40d2-98bf-167c733954c4",
        "colab": {
          "base_uri": "https://localhost:8080/",
          "height": 34
        }
      },
      "source": [
        "vectorizer3 = TfidfVectorizer(docs,lowercase = True, min_df = 0.1,max_df = 0.9)\n",
        "tfidfmat3 = vectorizer3.fit_transform(docs)\n",
        "tfidfmat3.shape"
      ],
      "execution_count": 40,
      "outputs": [
        {
          "output_type": "execute_result",
          "data": {
            "text/plain": [
              "(3414, 32)"
            ]
          },
          "metadata": {
            "tags": []
          },
          "execution_count": 40
        }
      ]
    },
    {
      "cell_type": "code",
      "metadata": {
        "id": "RSd91KkTLe1u",
        "colab_type": "code",
        "outputId": "fe575257-6cee-455a-c0ab-372a1632fa49",
        "colab": {
          "base_uri": "https://localhost:8080/",
          "height": 419
        }
      },
      "source": [
        "max_ind = [np.argmax(i) for i in tfidfmat3.todense()]\n",
        "terms3 = vectorizer3.get_feature_names()\n",
        "doc_keywords = [terms3[i] for i in max_ind]\n",
        "df_tfidf_out3 = pd.DataFrame(data = {'Product_name': data['Product_name'],'prod_des':data['prod_des'],'keywords':doc_keywords})\n",
        "df_tfidf_out3"
      ],
      "execution_count": 41,
      "outputs": [
        {
          "output_type": "execute_result",
          "data": {
            "text/html": [
              "<div>\n",
              "<style scoped>\n",
              "    .dataframe tbody tr th:only-of-type {\n",
              "        vertical-align: middle;\n",
              "    }\n",
              "\n",
              "    .dataframe tbody tr th {\n",
              "        vertical-align: top;\n",
              "    }\n",
              "\n",
              "    .dataframe thead th {\n",
              "        text-align: right;\n",
              "    }\n",
              "</style>\n",
              "<table border=\"1\" class=\"dataframe\">\n",
              "  <thead>\n",
              "    <tr style=\"text-align: right;\">\n",
              "      <th></th>\n",
              "      <th>Product_name</th>\n",
              "      <th>prod_des</th>\n",
              "      <th>keywords</th>\n",
              "    </tr>\n",
              "  </thead>\n",
              "  <tbody>\n",
              "    <tr>\n",
              "      <th>0</th>\n",
              "      <td>Samsung Galaxy M10 (Ocean Blue, 3+32GB)</td>\n",
              "      <td>The Samsung Galaxy M10 is especially created f...</td>\n",
              "      <td>smartphone</td>\n",
              "    </tr>\n",
              "    <tr>\n",
              "      <th>1</th>\n",
              "      <td>Redmi 6 Pro (Black, 4GB RAM, 64GB Storage)</td>\n",
              "      <td>Qualcomm Snapdragon 625, 2.0 GHz processor wit...</td>\n",
              "      <td>gb</td>\n",
              "    </tr>\n",
              "    <tr>\n",
              "      <th>2</th>\n",
              "      <td>Coolpad Cool 3 Plus (Ocean Blue, 2GB RAM, 16GB...</td>\n",
              "      <td>Coolpad Cool 3 Plus-Designed for all, 5.71'' H...</td>\n",
              "      <td>gb</td>\n",
              "    </tr>\n",
              "    <tr>\n",
              "      <th>3</th>\n",
              "      <td>Redmi 6 Pro (Black, 3GB RAM, 32GB Storage)</td>\n",
              "      <td>Qualcomm Snapdragon 625, 2.0 GHz processor wit...</td>\n",
              "      <td>gb</td>\n",
              "    </tr>\n",
              "    <tr>\n",
              "      <th>4</th>\n",
              "      <td>Nokia 105 (Black)</td>\n",
              "      <td>The design Shaped for your palm Featuring a cu...</td>\n",
              "      <td>time</td>\n",
              "    </tr>\n",
              "    <tr>\n",
              "      <th>...</th>\n",
              "      <td>...</td>\n",
              "      <td>...</td>\n",
              "      <td>...</td>\n",
              "    </tr>\n",
              "    <tr>\n",
              "      <th>3409</th>\n",
              "      <td>TokyoTon Mobile Battery for Moto M XT1662 XT16...</td>\n",
              "      <td>TokyoTon Mobile Battery for Moto M XT1662 XT16...</td>\n",
              "      <td>mobile</td>\n",
              "    </tr>\n",
              "    <tr>\n",
              "      <th>3410</th>\n",
              "      <td>AM Safe x Cable for iPhone LED Fast Charging D...</td>\n",
              "      <td>Fast Charging Nylon Braided USB LED Cable for ...</td>\n",
              "      <td>access</td>\n",
              "    </tr>\n",
              "    <tr>\n",
              "      <th>3411</th>\n",
              "      <td>Ktrack Metal and Plastic Open Pry Screwdriver ...</td>\n",
              "      <td>Product: Tool Metal and plastic. 8 in 1 tools ...</td>\n",
              "      <td>cover</td>\n",
              "    </tr>\n",
              "    <tr>\n",
              "      <th>3412</th>\n",
              "      <td>Samsung S-View Flip Cover for Samsung Galaxy S...</td>\n",
              "      <td>The S-View Flip Cover, Clear allows you to see...</td>\n",
              "      <td>cover</td>\n",
              "    </tr>\n",
              "    <tr>\n",
              "      <th>3413</th>\n",
              "      <td>TheGiftKart Full Body 3 in 1 Slim Fit 360 Degr...</td>\n",
              "      <td>DESCRIPTION:br&gt;Beautiful design, elegant appea...</td>\n",
              "      <td>protection</td>\n",
              "    </tr>\n",
              "  </tbody>\n",
              "</table>\n",
              "<p>3414 rows × 3 columns</p>\n",
              "</div>"
            ],
            "text/plain": [
              "                                           Product_name  ...    keywords\n",
              "0               Samsung Galaxy M10 (Ocean Blue, 3+32GB)  ...  smartphone\n",
              "1            Redmi 6 Pro (Black, 4GB RAM, 64GB Storage)  ...          gb\n",
              "2     Coolpad Cool 3 Plus (Ocean Blue, 2GB RAM, 16GB...  ...          gb\n",
              "3            Redmi 6 Pro (Black, 3GB RAM, 32GB Storage)  ...          gb\n",
              "4                                     Nokia 105 (Black)  ...        time\n",
              "...                                                 ...  ...         ...\n",
              "3409  TokyoTon Mobile Battery for Moto M XT1662 XT16...  ...      mobile\n",
              "3410  AM Safe x Cable for iPhone LED Fast Charging D...  ...      access\n",
              "3411  Ktrack Metal and Plastic Open Pry Screwdriver ...  ...       cover\n",
              "3412  Samsung S-View Flip Cover for Samsung Galaxy S...  ...       cover\n",
              "3413  TheGiftKart Full Body 3 in 1 Slim Fit 360 Degr...  ...  protection\n",
              "\n",
              "[3414 rows x 3 columns]"
            ]
          },
          "metadata": {
            "tags": []
          },
          "execution_count": 41
        }
      ]
    },
    {
      "cell_type": "markdown",
      "metadata": {
        "id": "1R8VBA1yaygB",
        "colab_type": "text"
      },
      "source": [
        "### Trial 3.2"
      ]
    },
    {
      "cell_type": "code",
      "metadata": {
        "id": "eZHGLyYI0iHm",
        "colab_type": "code",
        "outputId": "608c19c7-181a-47da-ba0b-1a7ca25aa389",
        "colab": {
          "base_uri": "https://localhost:8080/",
          "height": 419
        }
      },
      "source": [
        "doc_multi_keywords = get_topn_multi_keywords(tfidfmat3,3,terms3)\n",
        "df_tfidf_out3 = pd.DataFrame(data = {'Product_name': data['Product_name'],'prod_des':data['prod_des'],'keywords':doc_multi_keywords})\n",
        "df_tfidf_out3"
      ],
      "execution_count": 42,
      "outputs": [
        {
          "output_type": "execute_result",
          "data": {
            "text/html": [
              "<div>\n",
              "<style scoped>\n",
              "    .dataframe tbody tr th:only-of-type {\n",
              "        vertical-align: middle;\n",
              "    }\n",
              "\n",
              "    .dataframe tbody tr th {\n",
              "        vertical-align: top;\n",
              "    }\n",
              "\n",
              "    .dataframe thead th {\n",
              "        text-align: right;\n",
              "    }\n",
              "</style>\n",
              "<table border=\"1\" class=\"dataframe\">\n",
              "  <thead>\n",
              "    <tr style=\"text-align: right;\">\n",
              "      <th></th>\n",
              "      <th>Product_name</th>\n",
              "      <th>prod_des</th>\n",
              "      <th>keywords</th>\n",
              "    </tr>\n",
              "  </thead>\n",
              "  <tbody>\n",
              "    <tr>\n",
              "      <th>0</th>\n",
              "      <td>Samsung Galaxy M10 (Ocean Blue, 3+32GB)</td>\n",
              "      <td>The Samsung Galaxy M10 is especially created f...</td>\n",
              "      <td>[camera, display, smartphone]</td>\n",
              "    </tr>\n",
              "    <tr>\n",
              "      <th>1</th>\n",
              "      <td>Redmi 6 Pro (Black, 4GB RAM, 64GB Storage)</td>\n",
              "      <td>Qualcomm Snapdragon 625, 2.0 GHz processor wit...</td>\n",
              "      <td>[android, camera, gb]</td>\n",
              "    </tr>\n",
              "    <tr>\n",
              "      <th>2</th>\n",
              "      <td>Coolpad Cool 3 Plus (Ocean Blue, 2GB RAM, 16GB...</td>\n",
              "      <td>Coolpad Cool 3 Plus-Designed for all, 5.71'' H...</td>\n",
              "      <td>[display, android, gb]</td>\n",
              "    </tr>\n",
              "    <tr>\n",
              "      <th>3</th>\n",
              "      <td>Redmi 6 Pro (Black, 3GB RAM, 32GB Storage)</td>\n",
              "      <td>Qualcomm Snapdragon 625, 2.0 GHz processor wit...</td>\n",
              "      <td>[android, camera, gb]</td>\n",
              "    </tr>\n",
              "    <tr>\n",
              "      <th>4</th>\n",
              "      <td>Nokia 105 (Black)</td>\n",
              "      <td>The design Shaped for your palm Featuring a cu...</td>\n",
              "      <td>[quality, battery, time]</td>\n",
              "    </tr>\n",
              "    <tr>\n",
              "      <th>...</th>\n",
              "      <td>...</td>\n",
              "      <td>...</td>\n",
              "      <td>...</td>\n",
              "    </tr>\n",
              "    <tr>\n",
              "      <th>3409</th>\n",
              "      <td>TokyoTon Mobile Battery for Moto M XT1662 XT16...</td>\n",
              "      <td>TokyoTon Mobile Battery for Moto M XT1662 XT16...</td>\n",
              "      <td>[video, battery, mobile]</td>\n",
              "    </tr>\n",
              "    <tr>\n",
              "      <th>3410</th>\n",
              "      <td>AM Safe x Cable for iPhone LED Fast Charging D...</td>\n",
              "      <td>Fast Charging Nylon Braided USB LED Cable for ...</td>\n",
              "      <td>[android, time, video]</td>\n",
              "    </tr>\n",
              "    <tr>\n",
              "      <th>3411</th>\n",
              "      <td>Ktrack Metal and Plastic Open Pry Screwdriver ...</td>\n",
              "      <td>Product: Tool Metal and plastic. 8 in 1 tools ...</td>\n",
              "      <td>[product, phone, cover]</td>\n",
              "    </tr>\n",
              "    <tr>\n",
              "      <th>3412</th>\n",
              "      <td>Samsung S-View Flip Cover for Samsung Galaxy S...</td>\n",
              "      <td>The S-View Flip Cover, Clear allows you to see...</td>\n",
              "      <td>[screen, access, cover]</td>\n",
              "    </tr>\n",
              "    <tr>\n",
              "      <th>3413</th>\n",
              "      <td>TheGiftKart Full Body 3 in 1 Slim Fit 360 Degr...</td>\n",
              "      <td>DESCRIPTION:br&gt;Beautiful design, elegant appea...</td>\n",
              "      <td>[case, fit, protection]</td>\n",
              "    </tr>\n",
              "  </tbody>\n",
              "</table>\n",
              "<p>3414 rows × 3 columns</p>\n",
              "</div>"
            ],
            "text/plain": [
              "                                           Product_name  ...                       keywords\n",
              "0               Samsung Galaxy M10 (Ocean Blue, 3+32GB)  ...  [camera, display, smartphone]\n",
              "1            Redmi 6 Pro (Black, 4GB RAM, 64GB Storage)  ...          [android, camera, gb]\n",
              "2     Coolpad Cool 3 Plus (Ocean Blue, 2GB RAM, 16GB...  ...         [display, android, gb]\n",
              "3            Redmi 6 Pro (Black, 3GB RAM, 32GB Storage)  ...          [android, camera, gb]\n",
              "4                                     Nokia 105 (Black)  ...       [quality, battery, time]\n",
              "...                                                 ...  ...                            ...\n",
              "3409  TokyoTon Mobile Battery for Moto M XT1662 XT16...  ...       [video, battery, mobile]\n",
              "3410  AM Safe x Cable for iPhone LED Fast Charging D...  ...         [android, time, video]\n",
              "3411  Ktrack Metal and Plastic Open Pry Screwdriver ...  ...        [product, phone, cover]\n",
              "3412  Samsung S-View Flip Cover for Samsung Galaxy S...  ...        [screen, access, cover]\n",
              "3413  TheGiftKart Full Body 3 in 1 Slim Fit 360 Degr...  ...        [case, fit, protection]\n",
              "\n",
              "[3414 rows x 3 columns]"
            ]
          },
          "metadata": {
            "tags": []
          },
          "execution_count": 42
        }
      ]
    },
    {
      "cell_type": "markdown",
      "metadata": {
        "id": "NfBAnhgNg-m-",
        "colab_type": "text"
      },
      "source": [
        "## 3. Final Approach: POS+ TFIDF+ ngram with preprocessing"
      ]
    },
    {
      "cell_type": "code",
      "metadata": {
        "id": "CDRs8AaHMaQr",
        "colab_type": "code",
        "outputId": "3f724b01-5110-460e-c5ad-c3bec6fecbf5",
        "colab": {
          "base_uri": "https://localhost:8080/",
          "height": 34
        }
      },
      "source": [
        "vectorizer4 = TfidfVectorizer(docs,lowercase = True, min_df = 0.05,max_df = 0.95,ngram_range=(1,2))\n",
        "tfidfmat4 = vectorizer4.fit_transform(docs)\n",
        "tfidfmat4.shape"
      ],
      "execution_count": 44,
      "outputs": [
        {
          "output_type": "execute_result",
          "data": {
            "text/plain": [
              "(3414, 121)"
            ]
          },
          "metadata": {
            "tags": []
          },
          "execution_count": 44
        }
      ]
    },
    {
      "cell_type": "code",
      "metadata": {
        "id": "ZVMZ7NtJ2qgh",
        "colab_type": "code",
        "colab": {}
      },
      "source": [
        "terms4 =  vectorizer4.get_feature_names()\n",
        "doc_multi_keywords4 = get_topn_multi_keywords(tfidfmat4,3,terms4)"
      ],
      "execution_count": 0,
      "outputs": []
    },
    {
      "cell_type": "code",
      "metadata": {
        "id": "ciV1W9YG3Jn_",
        "colab_type": "code",
        "outputId": "c3fa033c-c54d-4c02-d1af-2903247eaf93",
        "colab": {
          "base_uri": "https://localhost:8080/",
          "height": 187
        }
      },
      "source": [
        "terms4[:10]"
      ],
      "execution_count": 47,
      "outputs": [
        {
          "output_type": "execute_result",
          "data": {
            "text/plain": [
              "['access',\n",
              " 'android',\n",
              " 'audio',\n",
              " 'bass',\n",
              " 'battery',\n",
              " 'bluetooth',\n",
              " 'brand',\n",
              " 'button',\n",
              " 'cable',\n",
              " 'call']"
            ]
          },
          "metadata": {
            "tags": []
          },
          "execution_count": 47
        }
      ]
    },
    {
      "cell_type": "code",
      "metadata": {
        "id": "JPnvdnoW23g1",
        "colab_type": "code",
        "outputId": "b5c13668-c06a-49e1-ab67-e1eb3eafcf33",
        "colab": {
          "base_uri": "https://localhost:8080/",
          "height": 419
        }
      },
      "source": [
        "df_tfidf_multi_out4 = pd.DataFrame(data = {'Product_name': data['Product_name'],'prod_des':data['prod_des'],'multi_keywords':doc_multi_keywords4})\n",
        "df_tfidf_multi_out4"
      ],
      "execution_count": 48,
      "outputs": [
        {
          "output_type": "execute_result",
          "data": {
            "text/html": [
              "<div>\n",
              "<style scoped>\n",
              "    .dataframe tbody tr th:only-of-type {\n",
              "        vertical-align: middle;\n",
              "    }\n",
              "\n",
              "    .dataframe tbody tr th {\n",
              "        vertical-align: top;\n",
              "    }\n",
              "\n",
              "    .dataframe thead th {\n",
              "        text-align: right;\n",
              "    }\n",
              "</style>\n",
              "<table border=\"1\" class=\"dataframe\">\n",
              "  <thead>\n",
              "    <tr style=\"text-align: right;\">\n",
              "      <th></th>\n",
              "      <th>Product_name</th>\n",
              "      <th>prod_des</th>\n",
              "      <th>multi_keywords</th>\n",
              "    </tr>\n",
              "  </thead>\n",
              "  <tbody>\n",
              "    <tr>\n",
              "      <th>0</th>\n",
              "      <td>Samsung Galaxy M10 (Ocean Blue, 3+32GB)</td>\n",
              "      <td>The Samsung Galaxy M10 is especially created f...</td>\n",
              "      <td>[edge, samsung galaxy, galaxy]</td>\n",
              "    </tr>\n",
              "    <tr>\n",
              "      <th>1</th>\n",
              "      <td>Redmi 6 Pro (Black, 4GB RAM, 64GB Storage)</td>\n",
              "      <td>Qualcomm Snapdragon 625, 2.0 GHz processor wit...</td>\n",
              "      <td>[flash, mode, mp]</td>\n",
              "    </tr>\n",
              "    <tr>\n",
              "      <th>2</th>\n",
              "      <td>Coolpad Cool 3 Plus (Ocean Blue, 2GB RAM, 16GB...</td>\n",
              "      <td>Coolpad Cool 3 Plus-Designed for all, 5.71'' H...</td>\n",
              "      <td>[hd, sensor, gb]</td>\n",
              "    </tr>\n",
              "    <tr>\n",
              "      <th>3</th>\n",
              "      <td>Redmi 6 Pro (Black, 3GB RAM, 32GB Storage)</td>\n",
              "      <td>Qualcomm Snapdragon 625, 2.0 GHz processor wit...</td>\n",
              "      <td>[flash, mode, mp]</td>\n",
              "    </tr>\n",
              "    <tr>\n",
              "      <th>4</th>\n",
              "      <td>Nokia 105 (Black)</td>\n",
              "      <td>The design Shaped for your palm Featuring a cu...</td>\n",
              "      <td>[color, hour, day]</td>\n",
              "    </tr>\n",
              "    <tr>\n",
              "      <th>...</th>\n",
              "      <td>...</td>\n",
              "      <td>...</td>\n",
              "      <td>...</td>\n",
              "    </tr>\n",
              "    <tr>\n",
              "      <th>3409</th>\n",
              "      <td>TokyoTon Mobile Battery for Moto M XT1662 XT16...</td>\n",
              "      <td>TokyoTon Mobile Battery for Moto M XT1662 XT16...</td>\n",
              "      <td>[wireless, battery, mobile]</td>\n",
              "    </tr>\n",
              "    <tr>\n",
              "      <th>3410</th>\n",
              "      <td>AM Safe x Cable for iPhone LED Fast Charging D...</td>\n",
              "      <td>Fast Charging Nylon Braided USB LED Cable for ...</td>\n",
              "      <td>[cable, usb, iphone]</td>\n",
              "    </tr>\n",
              "    <tr>\n",
              "      <th>3411</th>\n",
              "      <td>Ktrack Metal and Plastic Open Pry Screwdriver ...</td>\n",
              "      <td>Product: Tool Metal and plastic. 8 in 1 tools ...</td>\n",
              "      <td>[weight, iphone, cover]</td>\n",
              "    </tr>\n",
              "    <tr>\n",
              "      <th>3412</th>\n",
              "      <td>Samsung S-View Flip Cover for Samsung Galaxy S...</td>\n",
              "      <td>The S-View Flip Cover, Clear allows you to see...</td>\n",
              "      <td>[samsung, galaxy, view]</td>\n",
              "    </tr>\n",
              "    <tr>\n",
              "      <th>3413</th>\n",
              "      <td>TheGiftKart Full Body 3 in 1 Slim Fit 360 Degr...</td>\n",
              "      <td>DESCRIPTION:br&gt;Beautiful design, elegant appea...</td>\n",
              "      <td>[case, fit, protection]</td>\n",
              "    </tr>\n",
              "  </tbody>\n",
              "</table>\n",
              "<p>3414 rows × 3 columns</p>\n",
              "</div>"
            ],
            "text/plain": [
              "                                           Product_name  ...                  multi_keywords\n",
              "0               Samsung Galaxy M10 (Ocean Blue, 3+32GB)  ...  [edge, samsung galaxy, galaxy]\n",
              "1            Redmi 6 Pro (Black, 4GB RAM, 64GB Storage)  ...               [flash, mode, mp]\n",
              "2     Coolpad Cool 3 Plus (Ocean Blue, 2GB RAM, 16GB...  ...                [hd, sensor, gb]\n",
              "3            Redmi 6 Pro (Black, 3GB RAM, 32GB Storage)  ...               [flash, mode, mp]\n",
              "4                                     Nokia 105 (Black)  ...              [color, hour, day]\n",
              "...                                                 ...  ...                             ...\n",
              "3409  TokyoTon Mobile Battery for Moto M XT1662 XT16...  ...     [wireless, battery, mobile]\n",
              "3410  AM Safe x Cable for iPhone LED Fast Charging D...  ...            [cable, usb, iphone]\n",
              "3411  Ktrack Metal and Plastic Open Pry Screwdriver ...  ...         [weight, iphone, cover]\n",
              "3412  Samsung S-View Flip Cover for Samsung Galaxy S...  ...         [samsung, galaxy, view]\n",
              "3413  TheGiftKart Full Body 3 in 1 Slim Fit 360 Degr...  ...         [case, fit, protection]\n",
              "\n",
              "[3414 rows x 3 columns]"
            ]
          },
          "metadata": {
            "tags": []
          },
          "execution_count": 48
        }
      ]
    },
    {
      "cell_type": "markdown",
      "metadata": {
        "id": "u19hHX5e4Fex",
        "colab_type": "text"
      },
      "source": [
        "### Trial 3.2"
      ]
    },
    {
      "cell_type": "code",
      "metadata": {
        "id": "GseWvykp3FEk",
        "colab_type": "code",
        "outputId": "7ba6b86f-1333-483a-d904-9da0279f9e0d",
        "colab": {
          "base_uri": "https://localhost:8080/",
          "height": 34
        }
      },
      "source": [
        "vectorizer5 = TfidfVectorizer(docs,lowercase = True, min_df = 0.02,max_df = 0.95,ngram_range=(1,2))\n",
        "tfidfmat5 = vectorizer5.fit_transform(docs)\n",
        "tfidfmat5.shape"
      ],
      "execution_count": 49,
      "outputs": [
        {
          "output_type": "execute_result",
          "data": {
            "text/plain": [
              "(3414, 373)"
            ]
          },
          "metadata": {
            "tags": []
          },
          "execution_count": 49
        }
      ]
    },
    {
      "cell_type": "code",
      "metadata": {
        "id": "wxSzRwg-4WUN",
        "colab_type": "code",
        "colab": {}
      },
      "source": [
        "terms5 =  vectorizer5.get_feature_names()\n",
        "doc_multi_keywords5 = get_topn_multi_keywords(tfidfmat5,3,terms5)"
      ],
      "execution_count": 0,
      "outputs": []
    },
    {
      "cell_type": "code",
      "metadata": {
        "id": "beR8-rlw4hlW",
        "colab_type": "code",
        "outputId": "9c26269b-8086-4d9e-ffd7-ea0f171dd765",
        "colab": {
          "base_uri": "https://localhost:8080/",
          "height": 419
        }
      },
      "source": [
        "df_tfidf_multi_out5 = pd.DataFrame(data = {'Product_name': data['Product_name'],'prod_des':data['prod_des'],'multi_keywords':doc_multi_keywords5})\n",
        "df_tfidf_multi_out5"
      ],
      "execution_count": 51,
      "outputs": [
        {
          "output_type": "execute_result",
          "data": {
            "text/html": [
              "<div>\n",
              "<style scoped>\n",
              "    .dataframe tbody tr th:only-of-type {\n",
              "        vertical-align: middle;\n",
              "    }\n",
              "\n",
              "    .dataframe tbody tr th {\n",
              "        vertical-align: top;\n",
              "    }\n",
              "\n",
              "    .dataframe thead th {\n",
              "        text-align: right;\n",
              "    }\n",
              "</style>\n",
              "<table border=\"1\" class=\"dataframe\">\n",
              "  <thead>\n",
              "    <tr style=\"text-align: right;\">\n",
              "      <th></th>\n",
              "      <th>Product_name</th>\n",
              "      <th>prod_des</th>\n",
              "      <th>multi_keywords</th>\n",
              "    </tr>\n",
              "  </thead>\n",
              "  <tbody>\n",
              "    <tr>\n",
              "      <th>0</th>\n",
              "      <td>Samsung Galaxy M10 (Ocean Blue, 3+32GB)</td>\n",
              "      <td>The Samsung Galaxy M10 is especially created f...</td>\n",
              "      <td>[samsung galaxy, angle, galaxy]</td>\n",
              "    </tr>\n",
              "    <tr>\n",
              "      <th>1</th>\n",
              "      <td>Redmi 6 Pro (Black, 4GB RAM, 64GB Storage)</td>\n",
              "      <td>Qualcomm Snapdragon 625, 2.0 GHz processor wit...</td>\n",
              "      <td>[mode, portrait, mp]</td>\n",
              "    </tr>\n",
              "    <tr>\n",
              "      <th>2</th>\n",
              "      <td>Coolpad Cool 3 Plus (Ocean Blue, 2GB RAM, 16GB...</td>\n",
              "      <td>Coolpad Cool 3 Plus-Designed for all, 5.71'' H...</td>\n",
              "      <td>[upto, id, gb]</td>\n",
              "    </tr>\n",
              "    <tr>\n",
              "      <th>3</th>\n",
              "      <td>Redmi 6 Pro (Black, 3GB RAM, 32GB Storage)</td>\n",
              "      <td>Qualcomm Snapdragon 625, 2.0 GHz processor wit...</td>\n",
              "      <td>[mode, portrait, mp]</td>\n",
              "    </tr>\n",
              "    <tr>\n",
              "      <th>4</th>\n",
              "      <td>Nokia 105 (Black)</td>\n",
              "      <td>The design Shaped for your palm Featuring a cu...</td>\n",
              "      <td>[talk, companion, nokia]</td>\n",
              "    </tr>\n",
              "    <tr>\n",
              "      <th>...</th>\n",
              "      <td>...</td>\n",
              "      <td>...</td>\n",
              "      <td>...</td>\n",
              "    </tr>\n",
              "    <tr>\n",
              "      <th>3409</th>\n",
              "      <td>TokyoTon Mobile Battery for Moto M XT1662 XT16...</td>\n",
              "      <td>TokyoTon Mobile Battery for Moto M XT1662 XT16...</td>\n",
              "      <td>[year, battery, mobile]</td>\n",
              "    </tr>\n",
              "    <tr>\n",
              "      <th>3410</th>\n",
              "      <td>AM Safe x Cable for iPhone LED Fast Charging D...</td>\n",
              "      <td>Fast Charging Nylon Braided USB LED Cable for ...</td>\n",
              "      <td>[led, ipad, charging]</td>\n",
              "    </tr>\n",
              "    <tr>\n",
              "      <th>3411</th>\n",
              "      <td>Ktrack Metal and Plastic Open Pry Screwdriver ...</td>\n",
              "      <td>Product: Tool Metal and plastic. 8 in 1 tools ...</td>\n",
              "      <td>[phone cover, cover phone, cover]</td>\n",
              "    </tr>\n",
              "    <tr>\n",
              "      <th>3412</th>\n",
              "      <td>Samsung S-View Flip Cover for Samsung Galaxy S...</td>\n",
              "      <td>The S-View Flip Cover, Clear allows you to see...</td>\n",
              "      <td>[flip cover, galaxy, view]</td>\n",
              "    </tr>\n",
              "    <tr>\n",
              "      <th>3413</th>\n",
              "      <td>TheGiftKart Full Body 3 in 1 Slim Fit 360 Degr...</td>\n",
              "      <td>DESCRIPTION:br&gt;Beautiful design, elegant appea...</td>\n",
              "      <td>[fit, protection, slim]</td>\n",
              "    </tr>\n",
              "  </tbody>\n",
              "</table>\n",
              "<p>3414 rows × 3 columns</p>\n",
              "</div>"
            ],
            "text/plain": [
              "                                           Product_name  ...                     multi_keywords\n",
              "0               Samsung Galaxy M10 (Ocean Blue, 3+32GB)  ...    [samsung galaxy, angle, galaxy]\n",
              "1            Redmi 6 Pro (Black, 4GB RAM, 64GB Storage)  ...               [mode, portrait, mp]\n",
              "2     Coolpad Cool 3 Plus (Ocean Blue, 2GB RAM, 16GB...  ...                     [upto, id, gb]\n",
              "3            Redmi 6 Pro (Black, 3GB RAM, 32GB Storage)  ...               [mode, portrait, mp]\n",
              "4                                     Nokia 105 (Black)  ...           [talk, companion, nokia]\n",
              "...                                                 ...  ...                                ...\n",
              "3409  TokyoTon Mobile Battery for Moto M XT1662 XT16...  ...            [year, battery, mobile]\n",
              "3410  AM Safe x Cable for iPhone LED Fast Charging D...  ...              [led, ipad, charging]\n",
              "3411  Ktrack Metal and Plastic Open Pry Screwdriver ...  ...  [phone cover, cover phone, cover]\n",
              "3412  Samsung S-View Flip Cover for Samsung Galaxy S...  ...         [flip cover, galaxy, view]\n",
              "3413  TheGiftKart Full Body 3 in 1 Slim Fit 360 Degr...  ...            [fit, protection, slim]\n",
              "\n",
              "[3414 rows x 3 columns]"
            ]
          },
          "metadata": {
            "tags": []
          },
          "execution_count": 51
        }
      ]
    },
    {
      "cell_type": "code",
      "metadata": {
        "id": "cOmV2TBt4mSI",
        "colab_type": "code",
        "colab": {}
      },
      "source": [
        "def get_tuned_keywords(docs,min_df,max_df,ngram_range,no_of_keywords):\n",
        "  vectorizer5 = TfidfVectorizer(docs,lowercase = True, min_df =min_df,max_df = max_df,ngram_range=ngram_range)\n",
        "  tfidfmat5 = vectorizer5.fit_transform(docs)\n",
        "  print(\"Tfidf shape:\",tfidfmat5.shape)\n",
        "  terms5 =  vectorizer5.get_feature_names()\n",
        "  print(terms5)\n",
        "  doc_multi_keywords5 = get_topn_multi_keywords(tfidfmat5,no_of_keywords,terms5)\n",
        "  df_tfidf_multi_out5 = pd.DataFrame(data = {'Product_name': data['Product_name'],'prod_des':data['prod_des'],'multi_keywords':doc_multi_keywords5})\n",
        "  return(df_tfidf_multi_out5)"
      ],
      "execution_count": 0,
      "outputs": []
    },
    {
      "cell_type": "code",
      "metadata": {
        "id": "UTnTW0NRApvO",
        "colab_type": "code",
        "outputId": "32d021ac-2dde-482d-cd88-2e6bf48de884",
        "colab": {
          "base_uri": "https://localhost:8080/",
          "height": 473
        }
      },
      "source": [
        "final_out_task1_df = get_tuned_keywords(docs,0.02,0.95,(1,3),7)\n",
        "final_out_task1_df"
      ],
      "execution_count": 53,
      "outputs": [
        {
          "output_type": "stream",
          "text": [
            "Tfidf shape: (3414, 374)\n",
            "['absorption', 'accelerometer', 'access', 'access button', 'access port', 'accessory', 'adapter', 'ai', 'air', 'alarm', 'android', 'angle', 'anti', 'app', 'appearance', 'apple', 'armor', 'audio', 'auto', 'band', 'bass', 'battery', 'battery capacity', 'battery life', 'beauty', 'black', 'bluetooth', 'body', 'box', 'brand', 'bump', 'bumper', 'button', 'button camera', 'button port', 'cable', 'call', 'camera', 'camera camera', 'camera flash', 'camera speaker', 'capacity', 'car', 'card', 'case', 'case case', 'case cover', 'case phone', 'case protection', 'case quality', 'cases', 'cell', 'cell phone', 'charge', 'charger', 'charging', 'choice', 'clarity', 'class', 'clip', 'cm', 'coating', 'color', 'colour', 'comfort', 'companion', 'compatibility', 'connectivity', 'connector', 'construction', 'control', 'convenience', 'core', 'core processor', 'corner', 'cover', 'cover case', 'cover phone', 'crystal', 'customer', 'cut', 'cut out', 'cutout', 'damage', 'day', 'degree', 'degree protection', 'description', 'design', 'design case', 'design phone', 'designer', 'detail', 'device', 'devices', 'dirt', 'display', 'distance', 'driver', 'drop', 'dual', 'durability', 'dust', 'ear', 'earphone', 'ease', 'edge', 'effect', 'experience', 'eye', 'face', 'fall', 'fashion', 'feature', 'features', 'feel', 'fhd', 'fi', 'finger', 'fingerprint', 'finish', 'fit', 'flash', 'flip', 'flip cover', 'fm', 'frequency', 'function', 'functionality', 'functions', 'gadget', 'galaxy', 'game', 'gb', 'gb gb', 'gb ram', 'gb ram gb', 'ghz', 'glass', 'gold', 'google', 'grade', 'grip', 'gsm', 'hand', 'handset', 'hd', 'head', 'headphone', 'headphones', 'headset', 'health', 'high', 'high quality', 'holder', 'home', 'hour', 'htc', 'huawei', 'id', 'image', 'impact', 'inch', 'india', 'installation', 'internet', 'ion', 'ipad', 'iphone', 'jack', 'key', 'landscape', 'layer', 'lcd', 'leather', 'led', 'length', 'lens', 'level', 'life', 'light', 'lightweight', 'line', 'lip', 'lithium', 'look', 'mah', 'mah battery', 'manufacturer', 'market', 'material', 'matte', 'mb', 'memory', 'message', 'metal', 'mi', 'mic', 'micro', 'microphone', 'mini', 'minute', 'mm', 'mobile', 'mobile phone', 'mode', 'model', 'moment', 'monitor', 'month', 'mount', 'movie', 'mp', 'mp3', 'mp4', 'music', 'music player', 'need', 'network', 'new', 'noise', 'nokia', 'note', 'number', 'office', 'opening', 'operation', 'oppo', 'option', 'oreo', 'out', 'output', 'package', 'pad', 'part', 'party', 'pc', 'perfect', 'perfect fit', 'performance', 'phone', 'phone case', 'phone cover', 'phone design', 'phone model', 'phone phone', 'phone protection', 'phone scratch', 'phone time', 'phones', 'photo', 'picture', 'pixel', 'place', 'plastic', 'play', 'player', 'plug', 'plus', 'pocket', 'polycarbonate', 'port', 'portrait', 'power', 'power button', 'precision', 'premium', 'print', 'pro', 'process', 'processor', 'product', 'profile', 'proof', 'protection', 'protection case', 'protection phone', 'protector', 'proximity', 'proximity sensor', 'purpose', 'qualcomm', 'qualcomm snapdragon', 'quality', 'quality material', 'radio', 'ram', 'ram gb', 'range', 'rear', 'redmi', 'replacement', 'resolution', 'ring', 'rubber', 'safety', 'samsung', 'samsung galaxy', 'scratch', 'screen', 'sd', 'selfie', 'sensitivity', 'sensor', 'series', 'shell', 'shock', 'side', 'silicon', 'silicone', 'sim', 'size', 'skin', 'slim', 'slot', 'smart', 'smartphone', 'smartphone tablet', 'snapdragon', 'soft', 'solution', 'sound', 'speaker', 'specification', 'speed', 'stand', 'standard', 'standby', 'stereo', 'storage', 'style', 'super', 'support', 'surface', 'system', 'tablet', 'talk', 'tear', 'technology', 'texture', 'thank', 'time', 'touch', 'tpu', 'type', 'ultra', 'unit', 'universal', 'upto', 'usage', 'usb', 'use', 'user', 'version', 'video', 'view', 'vivo', 'voice', 'volume', 'wall', 'wallet', 'warranty', 'watch', 'water', 'way', 'wear', 'weight', 'wi', 'wi fi', 'wireless', 'work', 'world', 'xiaomi', 'year']\n"
          ],
          "name": "stdout"
        },
        {
          "output_type": "execute_result",
          "data": {
            "text/html": [
              "<div>\n",
              "<style scoped>\n",
              "    .dataframe tbody tr th:only-of-type {\n",
              "        vertical-align: middle;\n",
              "    }\n",
              "\n",
              "    .dataframe tbody tr th {\n",
              "        vertical-align: top;\n",
              "    }\n",
              "\n",
              "    .dataframe thead th {\n",
              "        text-align: right;\n",
              "    }\n",
              "</style>\n",
              "<table border=\"1\" class=\"dataframe\">\n",
              "  <thead>\n",
              "    <tr style=\"text-align: right;\">\n",
              "      <th></th>\n",
              "      <th>Product_name</th>\n",
              "      <th>prod_des</th>\n",
              "      <th>multi_keywords</th>\n",
              "    </tr>\n",
              "  </thead>\n",
              "  <tbody>\n",
              "    <tr>\n",
              "      <th>0</th>\n",
              "      <td>Samsung Galaxy M10 (Ocean Blue, 3+32GB)</td>\n",
              "      <td>The Samsung Galaxy M10 is especially created f...</td>\n",
              "      <td>[smartphone, samsung, processor, edge, samsung...</td>\n",
              "    </tr>\n",
              "    <tr>\n",
              "      <th>1</th>\n",
              "      <td>Redmi 6 Pro (Black, 4GB RAM, 64GB Storage)</td>\n",
              "      <td>Qualcomm Snapdragon 625, 2.0 GHz processor wit...</td>\n",
              "      <td>[proximity sensor, oreo, gb, flash, mode, port...</td>\n",
              "    </tr>\n",
              "    <tr>\n",
              "      <th>2</th>\n",
              "      <td>Coolpad Cool 3 Plus (Ocean Blue, 2GB RAM, 16GB...</td>\n",
              "      <td>Coolpad Cool 3 Plus-Designed for all, 5.71'' H...</td>\n",
              "      <td>[fingerprint, core processor, ram gb, gb ram g...</td>\n",
              "    </tr>\n",
              "    <tr>\n",
              "      <th>3</th>\n",
              "      <td>Redmi 6 Pro (Black, 3GB RAM, 32GB Storage)</td>\n",
              "      <td>Qualcomm Snapdragon 625, 2.0 GHz processor wit...</td>\n",
              "      <td>[proximity sensor, oreo, gb, flash, mode, port...</td>\n",
              "    </tr>\n",
              "    <tr>\n",
              "      <th>4</th>\n",
              "      <td>Nokia 105 (Black)</td>\n",
              "      <td>The design Shaped for your palm Featuring a cu...</td>\n",
              "      <td>[shell, month, moment, standby, talk, companio...</td>\n",
              "    </tr>\n",
              "    <tr>\n",
              "      <th>...</th>\n",
              "      <td>...</td>\n",
              "      <td>...</td>\n",
              "      <td>...</td>\n",
              "    </tr>\n",
              "    <tr>\n",
              "      <th>3409</th>\n",
              "      <td>TokyoTon Mobile Battery for Moto M XT1662 XT16...</td>\n",
              "      <td>TokyoTon Mobile Battery for Moto M XT1662 XT16...</td>\n",
              "      <td>[finish, fingerprint, finger, frequency, year,...</td>\n",
              "    </tr>\n",
              "    <tr>\n",
              "      <th>3410</th>\n",
              "      <td>AM Safe x Cable for iPhone LED Fast Charging D...</td>\n",
              "      <td>Fast Charging Nylon Braided USB LED Cable for ...</td>\n",
              "      <td>[year, cable, usb, iphone, led, ipad, charging]</td>\n",
              "    </tr>\n",
              "    <tr>\n",
              "      <th>3411</th>\n",
              "      <td>Ktrack Metal and Plastic Open Pry Screwdriver ...</td>\n",
              "      <td>Product: Tool Metal and plastic. 8 in 1 tools ...</td>\n",
              "      <td>[iphone, plastic, metal, damage, phone cover, ...</td>\n",
              "    </tr>\n",
              "    <tr>\n",
              "      <th>3412</th>\n",
              "      <td>Samsung S-View Flip Cover for Samsung Galaxy S...</td>\n",
              "      <td>The S-View Flip Cover, Clear allows you to see...</td>\n",
              "      <td>[flip, edge, cover, samsung, flip cover, galax...</td>\n",
              "    </tr>\n",
              "    <tr>\n",
              "      <th>3413</th>\n",
              "      <td>TheGiftKart Full Body 3 in 1 Slim Fit 360 Degr...</td>\n",
              "      <td>DESCRIPTION:br&gt;Beautiful design, elegant appea...</td>\n",
              "      <td>[precision, port, degree protection, case, fit...</td>\n",
              "    </tr>\n",
              "  </tbody>\n",
              "</table>\n",
              "<p>3414 rows × 3 columns</p>\n",
              "</div>"
            ],
            "text/plain": [
              "                                           Product_name  ...                                     multi_keywords\n",
              "0               Samsung Galaxy M10 (Ocean Blue, 3+32GB)  ...  [smartphone, samsung, processor, edge, samsung...\n",
              "1            Redmi 6 Pro (Black, 4GB RAM, 64GB Storage)  ...  [proximity sensor, oreo, gb, flash, mode, port...\n",
              "2     Coolpad Cool 3 Plus (Ocean Blue, 2GB RAM, 16GB...  ...  [fingerprint, core processor, ram gb, gb ram g...\n",
              "3            Redmi 6 Pro (Black, 3GB RAM, 32GB Storage)  ...  [proximity sensor, oreo, gb, flash, mode, port...\n",
              "4                                     Nokia 105 (Black)  ...  [shell, month, moment, standby, talk, companio...\n",
              "...                                                 ...  ...                                                ...\n",
              "3409  TokyoTon Mobile Battery for Moto M XT1662 XT16...  ...  [finish, fingerprint, finger, frequency, year,...\n",
              "3410  AM Safe x Cable for iPhone LED Fast Charging D...  ...    [year, cable, usb, iphone, led, ipad, charging]\n",
              "3411  Ktrack Metal and Plastic Open Pry Screwdriver ...  ...  [iphone, plastic, metal, damage, phone cover, ...\n",
              "3412  Samsung S-View Flip Cover for Samsung Galaxy S...  ...  [flip, edge, cover, samsung, flip cover, galax...\n",
              "3413  TheGiftKart Full Body 3 in 1 Slim Fit 360 Degr...  ...  [precision, port, degree protection, case, fit...\n",
              "\n",
              "[3414 rows x 3 columns]"
            ]
          },
          "metadata": {
            "tags": []
          },
          "execution_count": 53
        }
      ]
    },
    {
      "cell_type": "markdown",
      "metadata": {
        "id": "0LKOC5RV_w5r",
        "colab_type": "text"
      },
      "source": [
        "# Key Selling Points\n",
        "1. Key selling points can be treated as general, but quantified features eg. 1.3ghz processor, bezel less screen, 24 hr battery backup, octa core processor\n"
      ]
    },
    {
      "cell_type": "code",
      "metadata": {
        "id": "DHVYy9miQ_Lg",
        "colab_type": "code",
        "outputId": "59186269-994c-468e-a6e9-6ebc0838743d",
        "colab": {
          "base_uri": "https://localhost:8080/",
          "height": 139
        }
      },
      "source": [
        "i=1\n",
        "print(\"Original PDP:\\n\",data['prod_des'][i])\n",
        "print(\"After POS:\\n\",docs[i])\n",
        "print(\"Final Keywords:\\n\",final_out_task1_df['multi_keywords'][i])"
      ],
      "execution_count": 54,
      "outputs": [
        {
          "output_type": "stream",
          "text": [
            "Original PDP:\n",
            " Qualcomm Snapdragon 625, 2.0 GHz processor with 14nm architecture. 4000mAh battery capacity. 14.83 cm (5.84\") FHD+ (1080x2280) Display,. 4GB + 64GB Flash Memory. Stock Android Oreo 8.1. 12 MP + 5 MP dual rear camera with portrait mode PDAF, HDR, LED flash. 5 MP front camera with portrait mode. Proximity sensor, E compass, Gyroscope, Accelerometer, IR Blaster.\n",
            "After POS:\n",
            " GHz processor nm architecture battery capacity cm camera portrait mode flash camera portrait mode Proximity sensor e compass Qualcomm Snapdragon FHD 1080x2280 Display GB GB Flash Memory Stock Android Oreo MP MP PDAF HDR LED MP Gyroscope Accelerometer IR Blaster\n",
            "Final Keywords:\n",
            " ['proximity sensor', 'oreo', 'gb', 'flash', 'mode', 'portrait', 'mp']\n"
          ],
          "name": "stdout"
        }
      ]
    },
    {
      "cell_type": "code",
      "metadata": {
        "id": "0Rav5zyFyMfC",
        "colab_type": "code",
        "outputId": "fd5d0910-411f-4f52-8dac-e9c8a390f8ee",
        "colab": {
          "base_uri": "https://localhost:8080/",
          "height": 904
        }
      },
      "source": [
        "i = 0\n",
        "print(\"Original PDP:\\n\",data['prod_des'][i]+\"\\n\")\n",
        "doc = nlp(data['prod_des'][i])\n",
        "for chunk in doc.noun_chunks:\n",
        "    print(\"ct:\"+chunk.text+\"\\ncrt:\"+ chunk.root.text+\"\\ncrd:\"+ chunk.root.dep_+\n",
        "            \"\\ncrh:\"+chunk.root.head.text+\"\\n\\n\")"
      ],
      "execution_count": 55,
      "outputs": [
        {
          "output_type": "stream",
          "text": [
            "Original PDP:\n",
            " The Samsung Galaxy M10 is especially created for the millennials who live on the edge and do not compromise on anything. With a beautiful infinity V-cut display, a wide angle camera and a powerful processor, the Galaxy M10 is a powerful smartphone.\n",
            "\n",
            "ct:The Samsung Galaxy M10\n",
            "crt:M10\n",
            "crd:nsubjpass\n",
            "crh:created\n",
            "\n",
            "\n",
            "ct:the millennials\n",
            "crt:millennials\n",
            "crd:pobj\n",
            "crh:for\n",
            "\n",
            "\n",
            "ct:who\n",
            "crt:who\n",
            "crd:nsubj\n",
            "crh:live\n",
            "\n",
            "\n",
            "ct:the edge\n",
            "crt:edge\n",
            "crd:pobj\n",
            "crh:on\n",
            "\n",
            "\n",
            "ct:anything\n",
            "crt:anything\n",
            "crd:pobj\n",
            "crh:on\n",
            "\n",
            "\n",
            "ct:a beautiful infinity V-cut display\n",
            "crt:display\n",
            "crd:pobj\n",
            "crh:With\n",
            "\n",
            "\n",
            "ct:the Galaxy M10\n",
            "crt:M10\n",
            "crd:nsubj\n",
            "crh:is\n",
            "\n",
            "\n",
            "ct:a powerful smartphone\n",
            "crt:smartphone\n",
            "crd:attr\n",
            "crh:is\n",
            "\n",
            "\n"
          ],
          "name": "stdout"
        }
      ]
    },
    {
      "cell_type": "code",
      "metadata": {
        "id": "cLjZHUpx9Tbe",
        "colab_type": "code",
        "outputId": "cad64426-f21d-4202-a319-79a181548ab8",
        "colab": {
          "base_uri": "https://localhost:8080/",
          "height": 68
        }
      },
      "source": [
        "chunk_text = [i.text.lower() for i in doc.noun_chunks]\n",
        "chunk_root_text = [i.root.text.lower() for i in doc.noun_chunks]\n",
        "print(chunk_text)\n",
        "print(chunk_root_text)\n",
        "l = chunk_text\n",
        "lst_kw = final_out_task1_df['multi_keywords'][1]\n",
        "print(lst_kw)"
      ],
      "execution_count": 56,
      "outputs": [
        {
          "output_type": "stream",
          "text": [
            "['the samsung galaxy m10', 'the millennials', 'who', 'the edge', 'anything', 'a beautiful infinity v-cut display', 'the galaxy m10', 'a powerful smartphone']\n",
            "['m10', 'millennials', 'who', 'edge', 'anything', 'display', 'm10', 'smartphone']\n",
            "['proximity sensor', 'oreo', 'gb', 'flash', 'mode', 'portrait', 'mp']\n"
          ],
          "name": "stdout"
        }
      ]
    },
    {
      "cell_type": "code",
      "metadata": {
        "id": "K7l9Vzf1DSLy",
        "colab_type": "code",
        "colab": {}
      },
      "source": [
        "def match(lst_kw,lst_crt_ct):\n",
        "  l = []\n",
        "  for i in lst_kw:\n",
        "    for j in lst_crt_ct:\n",
        "      if i in j.split():\n",
        "        #print(i,\":\",j)\n",
        "        l.append(j)\n",
        "  return list(set(l))"
      ],
      "execution_count": 0,
      "outputs": []
    },
    {
      "cell_type": "code",
      "metadata": {
        "id": "o2RIxuWw_tQ8",
        "colab_type": "code",
        "colab": {}
      },
      "source": [
        "prod_des_lst = [i for i in final_out_task1_df['prod_des']]\n",
        "def extract_ksp(col1,col2):\n",
        "  lst_keywords = col1\n",
        "  prod_des = col2\n",
        "  doc = nlp(prod_des)\n",
        "  lst_chunk_text = [i.text.lower() for i in doc.noun_chunks]\n",
        "  lst_chunk_text.extend([i.root.text.lower() for i in doc.noun_chunks])\n",
        "  return(match(lst_keywords,lst_chunk_text))"
      ],
      "execution_count": 0,
      "outputs": []
    },
    {
      "cell_type": "code",
      "metadata": {
        "colab_type": "code",
        "id": "FwPiSZxwdJY3",
        "colab": {}
      },
      "source": [
        "out = final_out_task1_df.apply(lambda x: extract_ksp(x.multi_keywords,x.prod_des),axis = 1)"
      ],
      "execution_count": 0,
      "outputs": []
    },
    {
      "cell_type": "code",
      "metadata": {
        "id": "L0RxZLE1MuGV",
        "colab_type": "code",
        "colab": {}
      },
      "source": [
        "df_ksp= pd.DataFrame(data = {'Product_name': data['Product_name'],'prod_des':data['prod_des'],'search_engine_appt_keywords':final_out_task1_df['multi_keywords'],'key_selling_points':out})\n",
        "df_ksp.to_csv('final_out.csv',index=False)"
      ],
      "execution_count": 0,
      "outputs": []
    },
    {
      "cell_type": "code",
      "metadata": {
        "id": "_uP5u2rkpixA",
        "colab_type": "code",
        "outputId": "037beaf0-15be-4ce7-f06e-99a0c7b33cc7",
        "colab": {
          "base_uri": "https://localhost:8080/",
          "height": 419
        }
      },
      "source": [
        "df_ksp"
      ],
      "execution_count": 73,
      "outputs": [
        {
          "output_type": "execute_result",
          "data": {
            "text/html": [
              "<div>\n",
              "<style scoped>\n",
              "    .dataframe tbody tr th:only-of-type {\n",
              "        vertical-align: middle;\n",
              "    }\n",
              "\n",
              "    .dataframe tbody tr th {\n",
              "        vertical-align: top;\n",
              "    }\n",
              "\n",
              "    .dataframe thead th {\n",
              "        text-align: right;\n",
              "    }\n",
              "</style>\n",
              "<table border=\"1\" class=\"dataframe\">\n",
              "  <thead>\n",
              "    <tr style=\"text-align: right;\">\n",
              "      <th></th>\n",
              "      <th>Product_name</th>\n",
              "      <th>prod_des</th>\n",
              "      <th>search_engine_appt_keywords</th>\n",
              "      <th>key_selling_points</th>\n",
              "    </tr>\n",
              "  </thead>\n",
              "  <tbody>\n",
              "    <tr>\n",
              "      <th>0</th>\n",
              "      <td>Samsung Galaxy M10 (Ocean Blue, 3+32GB)</td>\n",
              "      <td>The Samsung Galaxy M10 is especially created f...</td>\n",
              "      <td>[smartphone, samsung, processor, edge, samsung...</td>\n",
              "      <td>[the samsung galaxy m10, the edge, smartphone,...</td>\n",
              "    </tr>\n",
              "    <tr>\n",
              "      <th>1</th>\n",
              "      <td>Redmi 6 Pro (Black, 4GB RAM, 64GB Storage)</td>\n",
              "      <td>Qualcomm Snapdragon 625, 2.0 GHz processor wit...</td>\n",
              "      <td>[proximity sensor, oreo, gb, flash, mode, port...</td>\n",
              "      <td>[64gb flash memory, led flash, 12 mp, 5 mp dua...</td>\n",
              "    </tr>\n",
              "    <tr>\n",
              "      <th>2</th>\n",
              "      <td>Coolpad Cool 3 Plus (Ocean Blue, 2GB RAM, 16GB...</td>\n",
              "      <td>Coolpad Cool 3 Plus-Designed for all, 5.71'' H...</td>\n",
              "      <td>[fingerprint, core processor, ram gb, gb ram g...</td>\n",
              "      <td>[expandable upto 128gb, fingerprint sensor, gr...</td>\n",
              "    </tr>\n",
              "    <tr>\n",
              "      <th>3</th>\n",
              "      <td>Redmi 6 Pro (Black, 3GB RAM, 32GB Storage)</td>\n",
              "      <td>Qualcomm Snapdragon 625, 2.0 GHz processor wit...</td>\n",
              "      <td>[proximity sensor, oreo, gb, flash, mode, port...</td>\n",
              "      <td>[12 mp, led flash, 5 mp dual rear camera, stoc...</td>\n",
              "    </tr>\n",
              "    <tr>\n",
              "      <th>4</th>\n",
              "      <td>Nokia 105 (Black)</td>\n",
              "      <td>The design Shaped for your palm Featuring a cu...</td>\n",
              "      <td>[shell, month, moment, standby, talk, companio...</td>\n",
              "      <td>[your everyday companion, its polycarbonate sh...</td>\n",
              "    </tr>\n",
              "    <tr>\n",
              "      <th>...</th>\n",
              "      <td>...</td>\n",
              "      <td>...</td>\n",
              "      <td>...</td>\n",
              "      <td>...</td>\n",
              "    </tr>\n",
              "    <tr>\n",
              "      <th>3409</th>\n",
              "      <td>TokyoTon Mobile Battery for Moto M XT1662 XT16...</td>\n",
              "      <td>TokyoTon Mobile Battery for Moto M XT1662 XT16...</td>\n",
              "      <td>[finish, fingerprint, finger, frequency, year,...</td>\n",
              "      <td>[battery, tokyoton mobile battery]</td>\n",
              "    </tr>\n",
              "    <tr>\n",
              "      <th>3410</th>\n",
              "      <td>AM Safe x Cable for iPhone LED Fast Charging D...</td>\n",
              "      <td>Fast Charging Nylon Braided USB LED Cable for ...</td>\n",
              "      <td>[year, cable, usb, iphone, led, ipad, charging]</td>\n",
              "      <td>[ipad, iphone, ipad, usb led cable, fast charg...</td>\n",
              "    </tr>\n",
              "    <tr>\n",
              "      <th>3411</th>\n",
              "      <td>Ktrack Metal and Plastic Open Pry Screwdriver ...</td>\n",
              "      <td>Product: Tool Metal and plastic. 8 in 1 tools ...</td>\n",
              "      <td>[iphone, plastic, metal, damage, phone cover, ...</td>\n",
              "      <td>[the phone cover, iphone, metal, tool metal, d...</td>\n",
              "    </tr>\n",
              "    <tr>\n",
              "      <th>3412</th>\n",
              "      <td>Samsung S-View Flip Cover for Samsung Galaxy S...</td>\n",
              "      <td>The S-View Flip Cover, Clear allows you to see...</td>\n",
              "      <td>[flip, edge, cover, samsung, flip cover, galax...</td>\n",
              "      <td>[the samsung s-view flip cover, the samsung ga...</td>\n",
              "    </tr>\n",
              "    <tr>\n",
              "      <th>3413</th>\n",
              "      <td>TheGiftKart Full Body 3 in 1 Slim Fit 360 Degr...</td>\n",
              "      <td>DESCRIPTION:br&gt;Beautiful design, elegant appea...</td>\n",
              "      <td>[precision, port, degree protection, case, fit...</td>\n",
              "      <td>[&gt; stunning looksthis slim fit case, 360 degre...</td>\n",
              "    </tr>\n",
              "  </tbody>\n",
              "</table>\n",
              "<p>3414 rows × 4 columns</p>\n",
              "</div>"
            ],
            "text/plain": [
              "                                           Product_name  ...                                 key_selling_points\n",
              "0               Samsung Galaxy M10 (Ocean Blue, 3+32GB)  ...  [the samsung galaxy m10, the edge, smartphone,...\n",
              "1            Redmi 6 Pro (Black, 4GB RAM, 64GB Storage)  ...  [64gb flash memory, led flash, 12 mp, 5 mp dua...\n",
              "2     Coolpad Cool 3 Plus (Ocean Blue, 2GB RAM, 16GB...  ...  [expandable upto 128gb, fingerprint sensor, gr...\n",
              "3            Redmi 6 Pro (Black, 3GB RAM, 32GB Storage)  ...  [12 mp, led flash, 5 mp dual rear camera, stoc...\n",
              "4                                     Nokia 105 (Black)  ...  [your everyday companion, its polycarbonate sh...\n",
              "...                                                 ...  ...                                                ...\n",
              "3409  TokyoTon Mobile Battery for Moto M XT1662 XT16...  ...                 [battery, tokyoton mobile battery]\n",
              "3410  AM Safe x Cable for iPhone LED Fast Charging D...  ...  [ipad, iphone, ipad, usb led cable, fast charg...\n",
              "3411  Ktrack Metal and Plastic Open Pry Screwdriver ...  ...  [the phone cover, iphone, metal, tool metal, d...\n",
              "3412  Samsung S-View Flip Cover for Samsung Galaxy S...  ...  [the samsung s-view flip cover, the samsung ga...\n",
              "3413  TheGiftKart Full Body 3 in 1 Slim Fit 360 Degr...  ...  [> stunning looksthis slim fit case, 360 degre...\n",
              "\n",
              "[3414 rows x 4 columns]"
            ]
          },
          "metadata": {
            "tags": []
          },
          "execution_count": 73
        }
      ]
    },
    {
      "cell_type": "code",
      "metadata": {
        "id": "yiAzYcfLNPuO",
        "colab_type": "code",
        "outputId": "5743ccbf-2f57-4a1c-f234-cbcc29f6065d",
        "colab": {
          "base_uri": "https://localhost:8080/",
          "height": 207
        }
      },
      "source": [
        "i=2\n",
        "print(\"Product_name\\n\",df_ksp['Product_name'][i])\n",
        "print(\"Original PDP:\\n\",data['prod_des'][i])\n",
        "print(\"After POS:\\n\",docs[i])\n",
        "print(\"Search Engine Apppropriate Keywords:\\n\",final_out_task1_df['multi_keywords'][i])\n",
        "print(\"Key selling Points:\\n\",df_ksp['key_selling_points'][i])"
      ],
      "execution_count": 74,
      "outputs": [
        {
          "output_type": "stream",
          "text": [
            "Product_name\n",
            " Coolpad Cool 3 Plus (Ocean Blue, 2GB RAM, 16GB Storage)\n",
            "Original PDP:\n",
            " Coolpad Cool 3 Plus-Designed for all, 5.71'' HD dewdrop display, 2GB RAM, 16GB ROM with expandable upto 128GB, Fingerprint sensor, Faceunlock, Gradient ID, Helio A22 Quad Core Processor, Android Pie,OTG Support.\n",
            "After POS:\n",
            " hd dewdrop display GB rom upto sensor support Coolpad Cool GB RAM GB Fingerprint Faceunlock Gradient ID Helio A22 Quad Core Processor Android Pie OTG\n",
            "Search Engine Apppropriate Keywords:\n",
            " ['fingerprint', 'core processor', 'ram gb', 'gb ram gb', 'upto', 'id', 'gb']\n",
            "Key selling Points:\n",
            " ['expandable upto 128gb', 'fingerprint sensor', 'gradient id', 'id', 'gb']\n"
          ],
          "name": "stdout"
        }
      ]
    },
    {
      "cell_type": "code",
      "metadata": {
        "id": "Jd5jGJIke89R",
        "colab_type": "code",
        "colab": {}
      },
      "source": [
        ""
      ],
      "execution_count": 0,
      "outputs": []
    }
  ]
}